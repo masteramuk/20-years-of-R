{
 "cells": [
  {
   "cell_type": "markdown",
   "id": "3809b2c5",
   "metadata": {
    "id": "jkxRSYjzA1oX",
    "papermill": {
     "duration": 0.015571,
     "end_time": "2025-03-31T14:41:01.055604",
     "exception": false,
     "start_time": "2025-03-31T14:41:01.040033",
     "status": "completed"
    },
    "tags": []
   },
   "source": [
    "##### Copyright 2025 Google LLC."
   ]
  },
  {
   "cell_type": "code",
   "execution_count": 1,
   "id": "9ef64af4",
   "metadata": {
    "cellView": "form",
    "execution": {
     "iopub.execute_input": "2025-03-31T14:41:01.090193Z",
     "iopub.status.busy": "2025-03-31T14:41:01.089671Z",
     "iopub.status.idle": "2025-03-31T14:41:01.098123Z",
     "shell.execute_reply": "2025-03-31T14:41:01.096339Z"
    },
    "id": "5u5OZ2ShA3BA",
    "jupyter": {
     "source_hidden": true
    },
    "papermill": {
     "duration": 0.02903,
     "end_time": "2025-03-31T14:41:01.101752",
     "exception": false,
     "start_time": "2025-03-31T14:41:01.072722",
     "status": "completed"
    },
    "tags": []
   },
   "outputs": [],
   "source": [
    "# @title Licensed under the Apache License, Version 2.0 (the \"License\");\n",
    "# you may not use this file except in compliance with the License.\n",
    "# You may obtain a copy of the License at\n",
    "#\n",
    "# https://www.apache.org/licenses/LICENSE-2.0\n",
    "#\n",
    "# Unless required by applicable law or agreed to in writing, software\n",
    "# distributed under the License is distributed on an \"AS IS\" BASIS,\n",
    "# WITHOUT WARRANTIES OR CONDITIONS OF ANY KIND, either express or implied.\n",
    "# See the License for the specific language governing permissions and\n",
    "# limitations under the License."
   ]
  },
  {
   "cell_type": "markdown",
   "id": "207289a3",
   "metadata": {
    "id": "csNPnkuCobmG",
    "papermill": {
     "duration": 0.015083,
     "end_time": "2025-03-31T14:41:01.135478",
     "exception": false,
     "start_time": "2025-03-31T14:41:01.120395",
     "status": "completed"
    },
    "tags": []
   },
   "source": [
    "# Day 1 - Prompting\n",
    "\n",
    "Welcome to the Kaggle 5-day Generative AI course!\n",
    "\n",
    "This notebook will show you how to get started with the Gemini API and walk you through some of the example prompts and techniques that you can also read about in the Prompting whitepaper. You don't need to read the whitepaper to use this notebook, but the papers will give you some theoretical context and background to complement this interactive notebook.\n",
    "\n",
    "\n",
    "## Before you begin\n",
    "\n",
    "In this notebook, you'll start exploring prompting using the Python SDK and AI Studio. For some inspiration, you might enjoy exploring some apps that have been built using the Gemini family of models. Here are a few that we like, and we think you will too.\n",
    "\n",
    "* [TextFX](https://textfx.withgoogle.com/) is a suite of AI-powered tools for rappers, made in collaboration with Lupe Fiasco,\n",
    "* [SQL Talk](https://sql-talk-r5gdynozbq-uc.a.run.app/) shows how you can talk directly to a database using the Gemini API,\n",
    "* [NotebookLM](https://notebooklm.google/) uses Gemini models to build your own personal AI research assistant.\n",
    "\n",
    "\n",
    "## For help\n",
    "\n",
    "**Common issues are covered in the [FAQ and troubleshooting guide](https://www.kaggle.com/code/markishere/day-0-troubleshooting-and-faqs).**\n",
    "\n",
    "## New for Gemini 2.0!\n",
    "\n",
    "This course material was first launched in November 2024. The AI and LLM space is moving incredibly fast, so we have made some updates to use the latest models and capabilities.\n",
    "\n",
    "* These codelabs have been updated to use the Gemini 2.0 family of models.\n",
    "* The Python SDK has been updated from `google-generativeai` to the new, unified [`google-genai`](https://pypi.org/project/google-genai) SDK.\n",
    "  * This new SDK works with both the developer Gemini API as well as Google Cloud Vertex AI, and switching is [as simple as changing some fields](https://pypi.org/project/google-genai/#:~:text=.Client%28%29-,API%20Selection,-By%20default%2C%20the).\n",
    "* New model capabilities have been added to the relevant codelabs, such as \"thinking mode\" in this lab.\n",
    "* Day 1 includes a new [Evaluation codelab](https://www.kaggle.com/code/markishere/day-1-evaluation-and-structured-output)."
   ]
  },
  {
   "attachments": {
    "d8299597-f771-4195-ac94-1d6f658ef2bd.png": {
     "image/png": "[encoded data removed]"
    },
    "ed25e346-2e15-4ab0-bc22-503eb1845e66.png": {
     "image/png": "[encoded data removed]"
    }
   },
   "cell_type": "markdown",
   "id": "a68f1bed",
   "metadata": {
    "id": "f00ea7c99e44",
    "papermill": {
     "duration": 0.015321,
     "end_time": "2025-03-31T14:41:01.165791",
     "exception": false,
     "start_time": "2025-03-31T14:41:01.150470",
     "status": "completed"
    },
    "tags": []
   },
   "source": [
    "## Get started with Kaggle notebooks\n",
    "\n",
    "If this is your first time using a Kaggle notebook, welcome! You can read about how to use Kaggle notebooks [in the docs](https://www.kaggle.com/docs/notebooks).\n",
    "\n",
    "First, you will need to phone verify your account at kaggle.com/settings.\n",
    "\n",
    "![](https://storage.googleapis.com/kaggle-media/Images/5dgai_0.png)"
   ]
  },
  {
   "cell_type": "markdown",
   "id": "6057924d",
   "metadata": {
    "papermill": {
     "duration": 0.016191,
     "end_time": "2025-03-31T14:41:01.196477",
     "exception": false,
     "start_time": "2025-03-31T14:41:01.180286",
     "status": "completed"
    },
    "tags": []
   },
   "source": [
    "To run this notebook, as well as the others in this course, you will need to make a copy, or fork, the notebook. Look for the `Copy and Edit` button in the top-right, and **click it** to make an editable, private copy of the notebook. It should look like this one:\n",
    "\n",
    "![Copy and Edit button](https://storage.googleapis.com/kaggle-media/Images/5gdai_sc_1.png)\n",
    "\n",
    "Your copy will now have a ▶️ **Run** button next to each code cell that you can press to execute that cell. These notebooks are expected to be run in order from top-to-bottom, but you are encouraged to add new cells, run your own code and explore. If you get stuck, you can try the `Factory reset` option in the `Run` menu, or head back to the original notebook and make a fresh copy.\n",
    "\n",
    "![Run cell button](https://storage.googleapis.com/kaggle-media/Images/5gdai_sc_2.png)\n",
    "\n",
    "### Problems?\n",
    "\n",
    "If you have any problems, head over to the [Kaggle Discord](https://discord.com/invite/kaggle), find the [`#5dgai-q-and-a` channel](https://discord.com/channels/1101210829807956100/1303438695143178251) and ask for help."
   ]
  },
  {
   "cell_type": "markdown",
   "id": "8b4dd39a",
   "metadata": {
    "id": "ExkOXcPxtTb5",
    "papermill": {
     "duration": 0.018161,
     "end_time": "2025-03-31T14:41:01.235123",
     "exception": false,
     "start_time": "2025-03-31T14:41:01.216962",
     "status": "completed"
    },
    "tags": []
   },
   "source": [
    "## Get started with the Gemini API\n",
    "\n",
    "All of the exercises in this notebook will use the [Gemini API](https://ai.google.dev/gemini-api/) by way of the [Python SDK](https://pypi.org/project/google-genai/). Each of these prompts can be accessed directly in [Google AI Studio](https://aistudio.google.com/) too, so if you would rather use a web interface and skip the code for this activity, look for the <img src=\"https://ai.google.dev/site-assets/images/marketing/home/icon-ais.png\" style=\"height: 24px\" height=24/> AI Studio link on each prompt."
   ]
  },
  {
   "cell_type": "markdown",
   "id": "086f57f6",
   "metadata": {
    "papermill": {
     "duration": 0.016566,
     "end_time": "2025-03-31T14:41:01.267889",
     "exception": false,
     "start_time": "2025-03-31T14:41:01.251323",
     "status": "completed"
    },
    "tags": []
   },
   "source": [
    "Next, you will need to add your API key to your Kaggle Notebook as a Kaggle User Secret.\n",
    "\n",
    "![](https://storage.googleapis.com/kaggle-media/Images/5dgai_1.png)\n",
    "![](https://storage.googleapis.com/kaggle-media/Images/5dgai_2.png)\n",
    "![](https://storage.googleapis.com/kaggle-media/Images/5dgai_3.png)\n",
    "![](https://storage.googleapis.com/kaggle-media/Images/5dgai_4.png)"
   ]
  },
  {
   "cell_type": "markdown",
   "id": "22f805e1",
   "metadata": {
    "id": "UAjUV3BsvFXQ",
    "papermill": {
     "duration": 0.016173,
     "end_time": "2025-03-31T14:41:01.302218",
     "exception": false,
     "start_time": "2025-03-31T14:41:01.286045",
     "status": "completed"
    },
    "tags": []
   },
   "source": [
    "### Install the SDK"
   ]
  },
  {
   "cell_type": "code",
   "execution_count": 2,
   "id": "a0a84fa1",
   "metadata": {
    "execution": {
     "iopub.execute_input": "2025-03-31T14:41:01.337748Z",
     "iopub.status.busy": "2025-03-31T14:41:01.337064Z",
     "iopub.status.idle": "2025-03-31T14:41:24.706960Z",
     "shell.execute_reply": "2025-03-31T14:41:24.705035Z"
    },
    "id": "NzwzJFU9LqkJ",
    "papermill": {
     "duration": 23.390294,
     "end_time": "2025-03-31T14:41:24.709992",
     "exception": false,
     "start_time": "2025-03-31T14:41:01.319698",
     "status": "completed"
    },
    "tags": []
   },
   "outputs": [],
   "source": [
    "!pip uninstall -qy jupyterlab  # Remove unused packages from Kaggle's base image that conflict\n",
    "!pip install -U -q \"google-genai==1.7.0\""
   ]
  },
  {
   "cell_type": "markdown",
   "id": "d35913f7",
   "metadata": {
    "papermill": {
     "duration": 0.014048,
     "end_time": "2025-03-31T14:41:24.738420",
     "exception": false,
     "start_time": "2025-03-31T14:41:24.724372",
     "status": "completed"
    },
    "tags": []
   },
   "source": [
    "Import the SDK and some helpers for rendering the output."
   ]
  },
  {
   "cell_type": "code",
   "execution_count": 3,
   "id": "325d580e",
   "metadata": {
    "execution": {
     "iopub.execute_input": "2025-03-31T14:41:24.769450Z",
     "iopub.status.busy": "2025-03-31T14:41:24.768916Z",
     "iopub.status.idle": "2025-03-31T14:41:26.439953Z",
     "shell.execute_reply": "2025-03-31T14:41:26.438220Z"
    },
    "id": "5DwxYIRavMST",
    "papermill": {
     "duration": 1.690454,
     "end_time": "2025-03-31T14:41:26.442972",
     "exception": false,
     "start_time": "2025-03-31T14:41:24.752518",
     "status": "completed"
    },
    "tags": []
   },
   "outputs": [],
   "source": [
    "from google import genai\n",
    "from google.genai import types\n",
    "\n",
    "from IPython.display import HTML, Markdown, display"
   ]
  },
  {
   "cell_type": "markdown",
   "id": "9ff265af",
   "metadata": {
    "papermill": {
     "duration": 0.014109,
     "end_time": "2025-03-31T14:41:26.472081",
     "exception": false,
     "start_time": "2025-03-31T14:41:26.457972",
     "status": "completed"
    },
    "tags": []
   },
   "source": [
    "Set up a retry helper. This allows you to \"Run all\" without worrying about per-minute quota."
   ]
  },
  {
   "cell_type": "code",
   "execution_count": 4,
   "id": "6cdc960d",
   "metadata": {
    "execution": {
     "iopub.execute_input": "2025-03-31T14:41:26.502616Z",
     "iopub.status.busy": "2025-03-31T14:41:26.501973Z",
     "iopub.status.idle": "2025-03-31T14:41:26.744190Z",
     "shell.execute_reply": "2025-03-31T14:41:26.742783Z"
    },
    "papermill": {
     "duration": 0.260937,
     "end_time": "2025-03-31T14:41:26.747281",
     "exception": false,
     "start_time": "2025-03-31T14:41:26.486344",
     "status": "completed"
    },
    "tags": []
   },
   "outputs": [],
   "source": [
    "from google.api_core import retry\n",
    "\n",
    "\n",
    "is_retriable = lambda e: (isinstance(e, genai.errors.APIError) and e.code in {429, 503})\n",
    "\n",
    "genai.models.Models.generate_content = retry.Retry(\n",
    "    predicate=is_retriable)(genai.models.Models.generate_content)"
   ]
  },
  {
   "cell_type": "markdown",
   "id": "36953510",
   "metadata": {
    "id": "DNEt2BCOvOJ1",
    "papermill": {
     "duration": 0.014633,
     "end_time": "2025-03-31T14:41:26.776968",
     "exception": false,
     "start_time": "2025-03-31T14:41:26.762335",
     "status": "completed"
    },
    "tags": []
   },
   "source": [
    "### Set up your API key\n",
    "\n",
    "To run the following cell, your API key must be stored it in a [Kaggle secret](https://www.kaggle.com/discussions/product-feedback/114053) named `GOOGLE_API_KEY`.\n",
    "\n",
    "If you don't already have an API key, you can grab one from [AI Studio](https://aistudio.google.com/app/apikey). You can find [detailed instructions in the docs](https://ai.google.dev/gemini-api/docs/api-key).\n",
    "\n",
    "To make the key available through Kaggle secrets, choose `Secrets` from the `Add-ons` menu and follow the instructions to add your key or enable it for this notebook."
   ]
  },
  {
   "cell_type": "code",
   "execution_count": 5,
   "id": "c8c2fbef",
   "metadata": {
    "execution": {
     "iopub.execute_input": "2025-03-31T14:41:26.807161Z",
     "iopub.status.busy": "2025-03-31T14:41:26.806534Z",
     "iopub.status.idle": "2025-03-31T14:41:27.009107Z",
     "shell.execute_reply": "2025-03-31T14:41:27.007843Z"
    },
    "id": "SHl0bkPCvayd",
    "papermill": {
     "duration": 0.220526,
     "end_time": "2025-03-31T14:41:27.011898",
     "exception": false,
     "start_time": "2025-03-31T14:41:26.791372",
     "status": "completed"
    },
    "tags": []
   },
   "outputs": [],
   "source": [
    "from kaggle_secrets import UserSecretsClient\n",
    "\n",
    "GOOGLE_API_KEY = UserSecretsClient().get_secret(\"GOOGLE_API_KEY\")"
   ]
  },
  {
   "attachments": {
    "d2be9aab-2527-48af-b6cf-1f06cdd7c3a7.png": {
     "image/png": "[encoded data removed]"
    }
   },
   "cell_type": "markdown",
   "id": "2e0203f7",
   "metadata": {
    "id": "4e720472fd86",
    "papermill": {
     "duration": 0.013832,
     "end_time": "2025-03-31T14:41:27.039611",
     "exception": false,
     "start_time": "2025-03-31T14:41:27.025779",
     "status": "completed"
    },
    "tags": []
   },
   "source": [
    "If you received an error response along the lines of `No user secrets exist for kernel id ...`, then you need to add your API key via `Add-ons`, `Secrets` **and** enable it.\n",
    "\n",
    "![Screenshot of the checkbox to enable GOOGLE_API_KEY secret](https://storage.googleapis.com/kaggle-media/Images/5gdai_sc_3.png)"
   ]
  },
  {
   "cell_type": "markdown",
   "id": "e715c295",
   "metadata": {
    "id": "H_YXCYIKvyZJ",
    "papermill": {
     "duration": 0.013461,
     "end_time": "2025-03-31T14:41:27.066775",
     "exception": false,
     "start_time": "2025-03-31T14:41:27.053314",
     "status": "completed"
    },
    "tags": []
   },
   "source": [
    "### Run your first prompt\n",
    "\n",
    "In this step, you will test that your API key is set up correctly by making a request.\n",
    "\n",
    "The Python SDK uses a [`Client` object](https://googleapis.github.io/python-genai/genai.html#genai.client.Client) to make requests to the API. The client lets you control which back-end to use (between the Gemini API and Vertex AI) and handles authentication (the API key).\n",
    "\n",
    "The `gemini-2.0-flash` model has been selected here.\n",
    "\n",
    "**Note**: If you see a `TransportError` on this step, you may need to **🔁 Factory reset** the notebook one time."
   ]
  },
  {
   "cell_type": "code",
   "execution_count": 6,
   "id": "396c9f81",
   "metadata": {
    "execution": {
     "iopub.execute_input": "2025-03-31T14:41:27.096295Z",
     "iopub.status.busy": "2025-03-31T14:41:27.095821Z",
     "iopub.status.idle": "2025-03-31T14:41:29.713214Z",
     "shell.execute_reply": "2025-03-31T14:41:29.711765Z"
    },
    "id": "BV1o0PmcvyJF",
    "papermill": {
     "duration": 2.63619,
     "end_time": "2025-03-31T14:41:29.716589",
     "exception": false,
     "start_time": "2025-03-31T14:41:27.080399",
     "status": "completed"
    },
    "tags": []
   },
   "outputs": [
    {
     "name": "stdout",
     "output_type": "stream",
     "text": [
      "Okay, imagine you have a really smart toy robot, but it doesn't know anything yet. That's like AI!\n",
      "\n",
      "Now, imagine you want the robot to learn how to play catch. You show it lots and lots of videos of people throwing and catching a ball. You also tell it when they do it right (good catch!) and when they do it wrong (missed the ball!).\n",
      "\n",
      "The robot watches all these videos and tries to learn the patterns. It learns things like:\n",
      "\n",
      "*   **When someone throws the ball, it goes up in the air.**\n",
      "*   **If I move my hands just like *that* person, I might catch the ball.**\n",
      "*   **Big, strong throws need bigger, stronger catches!**\n",
      "\n",
      "After watching tons of videos and practicing a lot, the robot gets better and better at catching the ball. It learns to do it on its own, even if the person throwing is doing something a little different!\n",
      "\n",
      "That's kind of what AI is! It's like giving a computer a lot of information and then letting it learn to do something cool, like:\n",
      "\n",
      "*   **Recognizing your face in a photo.** (Like your phone does!)\n",
      "*   **Playing games really well.** (Like some computer games can do!)\n",
      "*   **Helping doctors find illnesses.** (By looking at lots of pictures and data!)\n",
      "*   **Suggesting new songs you might like.** (Based on the songs you already listen to!)\n",
      "\n",
      "It's all about teaching computers to learn and solve problems on their own, just like that robot learning to play catch!  It's not magic, it's just really clever programming!\n",
      "\n"
     ]
    }
   ],
   "source": [
    "client = genai.Client(api_key=GOOGLE_API_KEY)\n",
    "\n",
    "response = client.models.generate_content(\n",
    "    model=\"gemini-2.0-flash\",\n",
    "    contents=\"Explain AI to me like I'm a kid.\")\n",
    "\n",
    "print(response.text)"
   ]
  },
  {
   "cell_type": "markdown",
   "id": "2a6ca113",
   "metadata": {
    "id": "f60ed9d8ae41",
    "papermill": {
     "duration": 0.01642,
     "end_time": "2025-03-31T14:41:29.749848",
     "exception": false,
     "start_time": "2025-03-31T14:41:29.733428",
     "status": "completed"
    },
    "tags": []
   },
   "source": [
    "The response often comes back in markdown format, which you can render directly in this notebook."
   ]
  },
  {
   "cell_type": "code",
   "execution_count": 7,
   "id": "91ee73ec",
   "metadata": {
    "execution": {
     "iopub.execute_input": "2025-03-31T14:41:29.782423Z",
     "iopub.status.busy": "2025-03-31T14:41:29.781891Z",
     "iopub.status.idle": "2025-03-31T14:41:29.791758Z",
     "shell.execute_reply": "2025-03-31T14:41:29.790444Z"
    },
    "id": "c933e5e460a5",
    "papermill": {
     "duration": 0.028771,
     "end_time": "2025-03-31T14:41:29.794273",
     "exception": false,
     "start_time": "2025-03-31T14:41:29.765502",
     "status": "completed"
    },
    "tags": []
   },
   "outputs": [
    {
     "data": {
      "text/markdown": [
       "Okay, imagine you have a really smart toy robot, but it doesn't know anything yet. That's like AI!\n",
       "\n",
       "Now, imagine you want the robot to learn how to play catch. You show it lots and lots of videos of people throwing and catching a ball. You also tell it when they do it right (good catch!) and when they do it wrong (missed the ball!).\n",
       "\n",
       "The robot watches all these videos and tries to learn the patterns. It learns things like:\n",
       "\n",
       "*   **When someone throws the ball, it goes up in the air.**\n",
       "*   **If I move my hands just like *that* person, I might catch the ball.**\n",
       "*   **Big, strong throws need bigger, stronger catches!**\n",
       "\n",
       "After watching tons of videos and practicing a lot, the robot gets better and better at catching the ball. It learns to do it on its own, even if the person throwing is doing something a little different!\n",
       "\n",
       "That's kind of what AI is! It's like giving a computer a lot of information and then letting it learn to do something cool, like:\n",
       "\n",
       "*   **Recognizing your face in a photo.** (Like your phone does!)\n",
       "*   **Playing games really well.** (Like some computer games can do!)\n",
       "*   **Helping doctors find illnesses.** (By looking at lots of pictures and data!)\n",
       "*   **Suggesting new songs you might like.** (Based on the songs you already listen to!)\n",
       "\n",
       "It's all about teaching computers to learn and solve problems on their own, just like that robot learning to play catch!  It's not magic, it's just really clever programming!\n"
      ],
      "text/plain": [
       "<IPython.core.display.Markdown object>"
      ]
     },
     "execution_count": 7,
     "metadata": {},
     "output_type": "execute_result"
    }
   ],
   "source": [
    "Markdown(response.text)"
   ]
  },
  {
   "cell_type": "markdown",
   "id": "28f92893",
   "metadata": {
    "id": "byx0pT9ZMW2Q",
    "papermill": {
     "duration": 0.014282,
     "end_time": "2025-03-31T14:41:29.823615",
     "exception": false,
     "start_time": "2025-03-31T14:41:29.809333",
     "status": "completed"
    },
    "tags": []
   },
   "source": [
    "### Start a chat\n",
    "\n",
    "The previous example uses a single-turn, text-in/text-out structure, but you can also set up a multi-turn chat structure too."
   ]
  },
  {
   "cell_type": "code",
   "execution_count": 8,
   "id": "48cab182",
   "metadata": {
    "execution": {
     "iopub.execute_input": "2025-03-31T14:41:29.855055Z",
     "iopub.status.busy": "2025-03-31T14:41:29.854631Z",
     "iopub.status.idle": "2025-03-31T14:41:30.322984Z",
     "shell.execute_reply": "2025-03-31T14:41:30.321525Z"
    },
    "id": "lV_S5ZL5MidD",
    "papermill": {
     "duration": 0.487651,
     "end_time": "2025-03-31T14:41:30.325795",
     "exception": false,
     "start_time": "2025-03-31T14:41:29.838144",
     "status": "completed"
    },
    "tags": []
   },
   "outputs": [
    {
     "name": "stdout",
     "output_type": "stream",
     "text": [
      "Greetings, Zlork! It's nice to meet you. Is there anything I can help you with today?\n",
      "\n"
     ]
    }
   ],
   "source": [
    "chat = client.chats.create(model='gemini-2.0-flash', history=[])\n",
    "response = chat.send_message('Hello! My name is Zlork.')\n",
    "print(response.text)"
   ]
  },
  {
   "cell_type": "code",
   "execution_count": 9,
   "id": "8b2be69a",
   "metadata": {
    "execution": {
     "iopub.execute_input": "2025-03-31T14:41:30.357059Z",
     "iopub.status.busy": "2025-03-31T14:41:30.356560Z",
     "iopub.status.idle": "2025-03-31T14:41:31.281476Z",
     "shell.execute_reply": "2025-03-31T14:41:31.280350Z"
    },
    "id": "7b0372c3c64a",
    "papermill": {
     "duration": 0.944064,
     "end_time": "2025-03-31T14:41:31.284163",
     "exception": false,
     "start_time": "2025-03-31T14:41:30.340099",
     "status": "completed"
    },
    "tags": []
   },
   "outputs": [
    {
     "name": "stdout",
     "output_type": "stream",
     "text": [
      "Okay, here's an interesting fact about dinosaurs:\n",
      "\n",
      "While many people picture dinosaurs as dull green or brown, recent discoveries suggest that some dinosaurs, especially smaller, feathered ones, had vibrant and complex colors, including iridescent feathers! Scientists have analyzed fossilized melanosomes (pigment-bearing organelles) to reconstruct the colors these dinosaurs possessed. This means some dinosaurs might have been as colorful and dazzling as modern birds, possibly for display, camouflage, or even thermoregulation.\n",
      "\n",
      "Did you find that interesting? I can tell you another fact if you like!\n",
      "\n"
     ]
    }
   ],
   "source": [
    "response = chat.send_message('Can you tell me something interesting about dinosaurs?')\n",
    "print(response.text)"
   ]
  },
  {
   "cell_type": "markdown",
   "id": "33ee1e2b",
   "metadata": {
    "papermill": {
     "duration": 0.015736,
     "end_time": "2025-03-31T14:41:31.315447",
     "exception": false,
     "start_time": "2025-03-31T14:41:31.299711",
     "status": "completed"
    },
    "tags": []
   },
   "source": [
    "While you have the `chat` object alive, the conversation state\n",
    "persists. Confirm that by asking if it knows the user's name."
   ]
  },
  {
   "cell_type": "code",
   "execution_count": 10,
   "id": "2d366c3c",
   "metadata": {
    "execution": {
     "iopub.execute_input": "2025-03-31T14:41:31.348195Z",
     "iopub.status.busy": "2025-03-31T14:41:31.347674Z",
     "iopub.status.idle": "2025-03-31T14:41:31.765684Z",
     "shell.execute_reply": "2025-03-31T14:41:31.764042Z"
    },
    "id": "d3f9591392a7",
    "papermill": {
     "duration": 0.438103,
     "end_time": "2025-03-31T14:41:31.768763",
     "exception": false,
     "start_time": "2025-03-31T14:41:31.330660",
     "status": "completed"
    },
    "tags": []
   },
   "outputs": [
    {
     "name": "stdout",
     "output_type": "stream",
     "text": [
      "Yes, your name is Zlork.\n",
      "\n"
     ]
    }
   ],
   "source": [
    "response = chat.send_message('Do you remember what my name is?')\n",
    "print(response.text)"
   ]
  },
  {
   "cell_type": "markdown",
   "id": "791a502f",
   "metadata": {
    "id": "2KAjpr1200sW",
    "papermill": {
     "duration": 0.014516,
     "end_time": "2025-03-31T14:41:31.798259",
     "exception": false,
     "start_time": "2025-03-31T14:41:31.783743",
     "status": "completed"
    },
    "tags": []
   },
   "source": [
    "### Choose a model\n",
    "\n",
    "The Gemini API provides access to a number of models from the Gemini model family. Read about the available models and their capabilities on the [model overview page](https://ai.google.dev/gemini-api/docs/models/gemini).\n",
    "\n",
    "In this step you'll use the API to list all of the available models."
   ]
  },
  {
   "cell_type": "code",
   "execution_count": 11,
   "id": "f4817a99",
   "metadata": {
    "execution": {
     "iopub.execute_input": "2025-03-31T14:41:31.829425Z",
     "iopub.status.busy": "2025-03-31T14:41:31.828890Z",
     "iopub.status.idle": "2025-03-31T14:41:31.857479Z",
     "shell.execute_reply": "2025-03-31T14:41:31.856294Z"
    },
    "id": "uUUZa2uq2jDm",
    "papermill": {
     "duration": 0.047936,
     "end_time": "2025-03-31T14:41:31.860573",
     "exception": false,
     "start_time": "2025-03-31T14:41:31.812637",
     "status": "completed"
    },
    "tags": []
   },
   "outputs": [
    {
     "name": "stdout",
     "output_type": "stream",
     "text": [
      "models/chat-bison-001\n",
      "models/text-bison-001\n",
      "models/embedding-gecko-001\n",
      "models/gemini-1.0-pro-vision-latest\n",
      "models/gemini-pro-vision\n",
      "models/gemini-1.5-pro-latest\n",
      "models/gemini-1.5-pro-001\n",
      "models/gemini-1.5-pro-002\n",
      "models/gemini-1.5-pro\n",
      "models/gemini-1.5-flash-latest\n",
      "models/gemini-1.5-flash-001\n",
      "models/gemini-1.5-flash-001-tuning\n",
      "models/gemini-1.5-flash\n",
      "models/gemini-1.5-flash-002\n",
      "models/gemini-1.5-flash-8b\n",
      "models/gemini-1.5-flash-8b-001\n",
      "models/gemini-1.5-flash-8b-latest\n",
      "models/gemini-1.5-flash-8b-exp-0827\n",
      "models/gemini-1.5-flash-8b-exp-0924\n",
      "models/gemini-2.5-pro-exp-03-25\n",
      "models/gemini-2.0-flash-exp\n",
      "models/gemini-2.0-flash\n",
      "models/gemini-2.0-flash-001\n",
      "models/gemini-2.0-flash-exp-image-generation\n",
      "models/gemini-2.0-flash-lite-001\n",
      "models/gemini-2.0-flash-lite\n",
      "models/gemini-2.0-flash-lite-preview-02-05\n",
      "models/gemini-2.0-flash-lite-preview\n",
      "models/gemini-2.0-pro-exp\n",
      "models/gemini-2.0-pro-exp-02-05\n",
      "models/gemini-exp-1206\n",
      "models/gemini-2.0-flash-thinking-exp-01-21\n",
      "models/gemini-2.0-flash-thinking-exp\n",
      "models/gemini-2.0-flash-thinking-exp-1219\n",
      "models/learnlm-1.5-pro-experimental\n",
      "models/gemma-3-27b-it\n",
      "models/embedding-001\n",
      "models/text-embedding-004\n",
      "models/gemini-embedding-exp-03-07\n",
      "models/gemini-embedding-exp\n",
      "models/aqa\n",
      "models/imagen-3.0-generate-002\n"
     ]
    }
   ],
   "source": [
    "for model in client.models.list():\n",
    "  print(model.name)"
   ]
  },
  {
   "cell_type": "markdown",
   "id": "1b85c5c9",
   "metadata": {
    "id": "rN49kSI54R1v",
    "papermill": {
     "duration": 0.015791,
     "end_time": "2025-03-31T14:41:31.893064",
     "exception": false,
     "start_time": "2025-03-31T14:41:31.877273",
     "status": "completed"
    },
    "tags": []
   },
   "source": [
    "The [`models.list`](https://ai.google.dev/api/models#method:-models.list) response also returns additional information about the model's capabilities, like the token limits and supported parameters."
   ]
  },
  {
   "cell_type": "code",
   "execution_count": 12,
   "id": "8e1f42b5",
   "metadata": {
    "execution": {
     "iopub.execute_input": "2025-03-31T14:41:31.925322Z",
     "iopub.status.busy": "2025-03-31T14:41:31.924825Z",
     "iopub.status.idle": "2025-03-31T14:41:31.957547Z",
     "shell.execute_reply": "2025-03-31T14:41:31.955845Z"
    },
    "id": "k7JJ1K6j4Rl8",
    "papermill": {
     "duration": 0.052365,
     "end_time": "2025-03-31T14:41:31.960744",
     "exception": false,
     "start_time": "2025-03-31T14:41:31.908379",
     "status": "completed"
    },
    "tags": []
   },
   "outputs": [
    {
     "name": "stdout",
     "output_type": "stream",
     "text": [
      "{'description': 'Gemini 2.0 Flash',\n",
      " 'display_name': 'Gemini 2.0 Flash',\n",
      " 'input_token_limit': 1048576,\n",
      " 'name': 'models/gemini-2.0-flash',\n",
      " 'output_token_limit': 8192,\n",
      " 'supported_actions': ['generateContent', 'countTokens'],\n",
      " 'tuned_model_info': {},\n",
      " 'version': '2.0'}\n"
     ]
    }
   ],
   "source": [
    "from pprint import pprint\n",
    "\n",
    "for model in client.models.list():\n",
    "  if model.name == 'models/gemini-2.0-flash':\n",
    "    pprint(model.to_json_dict())\n",
    "    break"
   ]
  },
  {
   "cell_type": "markdown",
   "id": "6bd91213",
   "metadata": {
    "id": "5rU_UBlZdooM",
    "papermill": {
     "duration": 0.014984,
     "end_time": "2025-03-31T14:41:31.991626",
     "exception": false,
     "start_time": "2025-03-31T14:41:31.976642",
     "status": "completed"
    },
    "tags": []
   },
   "source": [
    "## Explore generation parameters\n",
    "\n"
   ]
  },
  {
   "cell_type": "markdown",
   "id": "daed973f",
   "metadata": {
    "id": "G7NfEizeipbW",
    "papermill": {
     "duration": 0.015709,
     "end_time": "2025-03-31T14:41:32.027939",
     "exception": false,
     "start_time": "2025-03-31T14:41:32.012230",
     "status": "completed"
    },
    "tags": []
   },
   "source": [
    "### Output length\n",
    "\n",
    "When generating text with an LLM, the output length affects cost and performance. Generating more tokens increases computation, leading to higher energy consumption, latency, and cost.\n",
    "\n",
    "To stop the model from generating tokens past a limit, you can specify the `max_output_tokens` parameter when using the Gemini API. Specifying this parameter does not influence the generation of the output tokens, so the output will not become more stylistically or textually succinct, but it will stop generating tokens once the specified length is reached. Prompt engineering may be required to generate a more complete output for your given limit."
   ]
  },
  {
   "cell_type": "code",
   "execution_count": 13,
   "id": "21ea90ac",
   "metadata": {
    "execution": {
     "iopub.execute_input": "2025-03-31T14:41:32.060675Z",
     "iopub.status.busy": "2025-03-31T14:41:32.059255Z",
     "iopub.status.idle": "2025-03-31T14:41:33.467216Z",
     "shell.execute_reply": "2025-03-31T14:41:33.465212Z"
    },
    "id": "qVf23JsIi9ma",
    "papermill": {
     "duration": 1.427595,
     "end_time": "2025-03-31T14:41:33.470252",
     "exception": false,
     "start_time": "2025-03-31T14:41:32.042657",
     "status": "completed"
    },
    "tags": []
   },
   "outputs": [
    {
     "name": "stdout",
     "output_type": "stream",
     "text": [
      "## The Humble Olive: A Cornerstone of Modern Society\n",
      "\n",
      "The olive, a small, unassuming fruit, might seem a modest player in the grand scheme of modern society. Yet, beneath its wrinkled exterior lies a profound significance, woven into the tapestry of our culinary habits, health practices, economic activities, and even cultural landscapes. From the glistening droplets of olive oil nourishing our bodies to the briny burst of flavor enriching our palates, the olive’s influence extends far beyond the Mediterranean basin, where its story began millennia ago. Its importance in modern society is multifaceted, encompassing its vital role in promoting health, fueling global economies, shaping cultural identities, and contributing to sustainable agricultural practices.\n",
      "\n",
      "Perhaps the most widely recognized contribution of the olive is its impact on human health, primarily through the consumption of olive oil. The scientific community has consistently lauded the health benefits of olive oil, particularly extra virgin olive oil, a cornerstone of the Mediterranean diet. Rich in monounsaturated fats, notably oleic acid, olive\n"
     ]
    }
   ],
   "source": [
    "from google.genai import types\n",
    "\n",
    "short_config = types.GenerateContentConfig(max_output_tokens=200)\n",
    "\n",
    "response = client.models.generate_content(\n",
    "    model='gemini-2.0-flash',\n",
    "    config=short_config,\n",
    "    contents='Write a 1000 word essay on the importance of olives in modern society.')\n",
    "\n",
    "print(response.text)"
   ]
  },
  {
   "cell_type": "code",
   "execution_count": 14,
   "id": "a19219d6",
   "metadata": {
    "execution": {
     "iopub.execute_input": "2025-03-31T14:41:33.503494Z",
     "iopub.status.busy": "2025-03-31T14:41:33.502717Z",
     "iopub.status.idle": "2025-03-31T14:41:34.487202Z",
     "shell.execute_reply": "2025-03-31T14:41:34.485655Z"
    },
    "id": "W-3kR2F5kdMR",
    "papermill": {
     "duration": 1.004875,
     "end_time": "2025-03-31T14:41:34.490325",
     "exception": false,
     "start_time": "2025-03-31T14:41:33.485450",
     "status": "completed"
    },
    "tags": []
   },
   "outputs": [
    {
     "name": "stdout",
     "output_type": "stream",
     "text": [
      "From sun-drenched groves, a humble grace,\n",
      "The olive stands in time and space.\n",
      "In oil that flows, a golden stream,\n",
      "A health-filled art, a vibrant dream.\n",
      "\n",
      "On pizzas tossed, in salads bright,\n",
      "A briny burst, a pure delight.\n",
      "From tapenade to fragrant dips,\n",
      "It graces tables, seals our lips\n",
      "\n",
      "With flavors bold, a taste of earth,\n",
      "Proving simple things have worth.\n",
      "The olive thrives, a modern plea,\n",
      "For nature's bounty, wild and free.\n",
      "\n"
     ]
    }
   ],
   "source": [
    "response = client.models.generate_content(\n",
    "    model='gemini-2.0-flash',\n",
    "    config=short_config,\n",
    "    contents='Write a short poem on the importance of olives in modern society.')\n",
    "\n",
    "print(response.text)"
   ]
  },
  {
   "cell_type": "markdown",
   "id": "c083792d",
   "metadata": {
    "id": "3ZhDSLB6lqqB",
    "papermill": {
     "duration": 0.014647,
     "end_time": "2025-03-31T14:41:34.520047",
     "exception": false,
     "start_time": "2025-03-31T14:41:34.505400",
     "status": "completed"
    },
    "tags": []
   },
   "source": [
    "Explore with your own prompts. Try a prompt with a restrictive output limit and then adjust the prompt to work within that limit."
   ]
  },
  {
   "cell_type": "markdown",
   "id": "e39ca2d7",
   "metadata": {
    "id": "alx-WaAvir_9",
    "papermill": {
     "duration": 0.014667,
     "end_time": "2025-03-31T14:41:34.549674",
     "exception": false,
     "start_time": "2025-03-31T14:41:34.535007",
     "status": "completed"
    },
    "tags": []
   },
   "source": [
    "### Temperature\n",
    "\n",
    "Temperature controls the degree of randomness in token selection. Higher temperatures result in a higher number of candidate tokens from which the next output token is selected, and can produce more diverse results, while lower temperatures have the opposite effect, such that a temperature of 0 results in greedy decoding, selecting the most probable token at each step.\n",
    "\n",
    "Temperature doesn't provide any guarantees of randomness, but it can be used to \"nudge\" the output somewhat."
   ]
  },
  {
   "cell_type": "code",
   "execution_count": 15,
   "id": "a59e669b",
   "metadata": {
    "execution": {
     "iopub.execute_input": "2025-03-31T14:41:34.583976Z",
     "iopub.status.busy": "2025-03-31T14:41:34.583556Z",
     "iopub.status.idle": "2025-03-31T14:41:35.864645Z",
     "shell.execute_reply": "2025-03-31T14:41:35.863263Z"
    },
    "id": "SHraGMzqnZqt",
    "papermill": {
     "duration": 1.300819,
     "end_time": "2025-03-31T14:41:35.867523",
     "exception": false,
     "start_time": "2025-03-31T14:41:34.566704",
     "status": "completed"
    },
    "tags": []
   },
   "outputs": [
    {
     "name": "stdout",
     "output_type": "stream",
     "text": [
      "Turquoise\n",
      " -------------------------\n",
      "Mauve.\n",
      " -------------------------\n",
      "Orange\n",
      " -------------------------\n",
      "Magenta\n",
      " -------------------------\n",
      "Mauve.\n",
      " -------------------------\n"
     ]
    }
   ],
   "source": [
    "high_temp_config = types.GenerateContentConfig(temperature=2.0)\n",
    "\n",
    "\n",
    "for _ in range(5):\n",
    "  response = client.models.generate_content(\n",
    "      model='gemini-2.0-flash',\n",
    "      config=high_temp_config,\n",
    "      contents='Pick a random colour... (respond in a single word)')\n",
    "\n",
    "  if response.text:\n",
    "    print(response.text, '-' * 25)"
   ]
  },
  {
   "cell_type": "markdown",
   "id": "d64e6c57",
   "metadata": {
    "id": "z3J4pCTuof7e",
    "papermill": {
     "duration": 0.016066,
     "end_time": "2025-03-31T14:41:35.898849",
     "exception": false,
     "start_time": "2025-03-31T14:41:35.882783",
     "status": "completed"
    },
    "tags": []
   },
   "source": [
    "Now try the same prompt with temperature set to zero. Note that the output is not completely deterministic, as other parameters affect token selection, but the results will tend to be more stable."
   ]
  },
  {
   "cell_type": "code",
   "execution_count": 16,
   "id": "70d0204d",
   "metadata": {
    "execution": {
     "iopub.execute_input": "2025-03-31T14:41:35.934063Z",
     "iopub.status.busy": "2025-03-31T14:41:35.933647Z",
     "iopub.status.idle": "2025-03-31T14:41:37.253010Z",
     "shell.execute_reply": "2025-03-31T14:41:37.251392Z"
    },
    "id": "clymkWv-PfUZ",
    "papermill": {
     "duration": 1.340751,
     "end_time": "2025-03-31T14:41:37.256438",
     "exception": false,
     "start_time": "2025-03-31T14:41:35.915687",
     "status": "completed"
    },
    "tags": []
   },
   "outputs": [
    {
     "name": "stdout",
     "output_type": "stream",
     "text": [
      "Azure\n",
      " -------------------------\n",
      "Azure\n",
      " -------------------------\n",
      "Azure\n",
      " -------------------------\n",
      "Azure\n",
      " -------------------------\n",
      "Azure\n",
      " -------------------------\n"
     ]
    }
   ],
   "source": [
    "low_temp_config = types.GenerateContentConfig(temperature=0.0)\n",
    "\n",
    "for _ in range(5):\n",
    "  response = client.models.generate_content(\n",
    "      model='gemini-2.0-flash',\n",
    "      config=low_temp_config,\n",
    "      contents='Pick a random colour... (respond in a single word)')\n",
    "\n",
    "  if response.text:\n",
    "    print(response.text, '-' * 25)"
   ]
  },
  {
   "cell_type": "markdown",
   "id": "664346bb",
   "metadata": {
    "id": "St5nt3vzitsZ",
    "papermill": {
     "duration": 0.016373,
     "end_time": "2025-03-31T14:41:37.290112",
     "exception": false,
     "start_time": "2025-03-31T14:41:37.273739",
     "status": "completed"
    },
    "tags": []
   },
   "source": [
    "### Top-P\n",
    "\n",
    "Like temperature, the top-P parameter is also used to control the diversity of the model's output.\n",
    "\n",
    "Top-P defines the probability threshold that, once cumulatively exceeded, tokens stop being selected as candidates. A top-P of 0 is typically equivalent to greedy decoding, and a top-P of 1 typically selects every token in the model's vocabulary.\n",
    "\n",
    "You may also see top-K referenced in LLM literature. Top-K is not configurable in the Gemini 2.0 series of models, but can be changed in older models. Top-K is a positive integer that defines the number of most probable tokens from which to select the output token. A top-K of 1 selects a single token, performing greedy decoding.\n",
    "\n",
    "\n",
    "Run this example a number of times, change the settings and observe the change in output."
   ]
  },
  {
   "cell_type": "code",
   "execution_count": 17,
   "id": "6d349665",
   "metadata": {
    "execution": {
     "iopub.execute_input": "2025-03-31T14:41:37.324668Z",
     "iopub.status.busy": "2025-03-31T14:41:37.324268Z",
     "iopub.status.idle": "2025-03-31T14:41:50.850660Z",
     "shell.execute_reply": "2025-03-31T14:41:50.848779Z"
    },
    "id": "lPlzpEavUV8F",
    "papermill": {
     "duration": 13.546187,
     "end_time": "2025-03-31T14:41:50.853462",
     "exception": false,
     "start_time": "2025-03-31T14:41:37.307275",
     "status": "completed"
    },
    "tags": []
   },
   "outputs": [
    {
     "name": "stdout",
     "output_type": "stream",
     "text": [
      "Jasper was no ordinary tabby. Sure, he possessed the requisite feline skills: napping in sunbeams, demanding head scratches, and shedding enough fur to knit another cat. But Jasper harbored a secret. He yearned for adventure. His world, confined to the sprawling suburban house and manicured lawn, felt stifling.\n",
      "\n",
      "One Tuesday, while the family was distracted with takeout pizza and a particularly loud action movie, Jasper saw his chance. The back door, usually guarded like Fort Knox, was slightly ajar. The siren song of the unknown, the rustling leaves, the chirping crickets, all called to him.\n",
      "\n",
      "He squeezed through the gap and found himself in a wonderland. The world exploded with scent - damp earth, blooming honeysuckle, and the tantalizing aroma of something distinctly rodent-like. He followed his nose, his tail held high like a flag of independence.\n",
      "\n",
      "His adventure began in the tall grass bordering the lawn. He stalked imaginary prey, practiced acrobatic leaps worthy of Cirque du Soleil, and basked in the feeling of being, simply, a cat in the wild. He encountered a plump earthworm, whom he regarded with a mixture of curiosity and disgust (too slimy!), and a squadron of ants marching with military precision (far too organized!).\n",
      "\n",
      "As twilight deepened, Jasper ventured further, his paws padding softly on the forest floor. He discovered a babbling brook, its water cool and refreshing. He lapped at it, mesmerized by the reflections of the trees dancing on the surface.\n",
      "\n",
      "Suddenly, a rustling in the undergrowth sent a shiver down his spine. A pair of luminous eyes blinked back at him. A badger, twice his size, emerged from the shadows. Jasper, despite his bravado, felt a primal fear grip him. He arched his back, puffed up his fur, and hissed, trying to appear larger and more ferocious than he actually was.\n",
      "\n",
      "The badger, unimpressed, merely sniffed the air and lumbered past, seemingly uninterested in a feline snack. Jasper’s heart hammered in his chest. He realized adventure wasn't always about chasing butterflies and lapping at streams. It could also be terrifying.\n",
      "\n",
      "He was starting to feel lost and, dare he admit it, a little homesick. The scent of familiar comfort, however, wafted on the breeze - the unmistakable aroma of fish-flavored kibble. He followed the scent, his pace quickening with each step.\n",
      "\n",
      "Finally, he saw it. The warm glow of the back porch light, the outline of his house, his home. The door was still ajar. He slipped back inside, unnoticed, and made his way to his favorite spot on the living room rug.\n",
      "\n",
      "Exhausted but strangely exhilarated, Jasper curled up and closed his eyes. He might have faced down a badger, explored a forest, and tasted freedom, but there was something undeniably comforting about the familiar safety of his home.\n",
      "\n",
      "He woke to a gentle hand stroking his fur and a soft voice saying, \"Where were you, you naughty cat?\" He purred, kneading his paws into the soft rug. He might be a domesticated cat, but tonight, he had been an adventurer. And he knew, deep down, that one day, he would venture out again, ready for whatever the world, and the slightly open back door, had in store. The taste of adventure, it seemed, was one he couldn’t easily forget.\n",
      "\n"
     ]
    }
   ],
   "source": [
    "model_config = types.GenerateContentConfig(\n",
    "    # These are the default values for gemini-2.0-flash.\n",
    "    temperature=1.0,\n",
    "    top_p=0.95,\n",
    ")\n",
    "\n",
    "story_prompt = \"You are a creative writer. Write a short story about a cat who goes on an adventure.\"\n",
    "response = client.models.generate_content(\n",
    "    model='gemini-2.0-flash',\n",
    "    config=model_config,\n",
    "    contents=story_prompt)\n",
    "\n",
    "print(response.text)"
   ]
  },
  {
   "cell_type": "markdown",
   "id": "1b57b07c",
   "metadata": {
    "id": "rMrYs1koY6DX",
    "papermill": {
     "duration": 0.015052,
     "end_time": "2025-03-31T14:41:50.884321",
     "exception": false,
     "start_time": "2025-03-31T14:41:50.869269",
     "status": "completed"
    },
    "tags": []
   },
   "source": [
    "## Prompting\n",
    "\n",
    "This section contains some prompts from the chapter for you to try out directly in the API. Try changing the text here to see how each prompt performs with different instructions, more examples, or any other changes you can think of."
   ]
  },
  {
   "cell_type": "markdown",
   "id": "22cd3235",
   "metadata": {
    "id": "hhj_tQidZJP7",
    "papermill": {
     "duration": 0.015402,
     "end_time": "2025-03-31T14:41:50.915237",
     "exception": false,
     "start_time": "2025-03-31T14:41:50.899835",
     "status": "completed"
    },
    "tags": []
   },
   "source": [
    "### Zero-shot\n",
    "\n",
    "Zero-shot prompts are prompts that describe the request for the model directly.\n",
    "\n",
    "<table align=left>\n",
    "  <td>\n",
    "    <a target=\"_blank\" href=\"https://aistudio.google.com/prompts/1gzKKgDHwkAvexG5Up0LMtl1-6jKMKe4g\"><img src=\"https://ai.google.dev/site-assets/images/marketing/home/icon-ais.png\" style=\"height: 24px\" height=24/> Open in AI Studio</a>\n",
    "  </td>\n",
    "</table>"
   ]
  },
  {
   "cell_type": "code",
   "execution_count": 18,
   "id": "8bc8211d",
   "metadata": {
    "execution": {
     "iopub.execute_input": "2025-03-31T14:41:50.948922Z",
     "iopub.status.busy": "2025-03-31T14:41:50.948482Z",
     "iopub.status.idle": "2025-03-31T14:41:51.312792Z",
     "shell.execute_reply": "2025-03-31T14:41:51.311284Z"
    },
    "id": "1_t-cwnDZzbH",
    "papermill": {
     "duration": 0.384646,
     "end_time": "2025-03-31T14:41:51.315425",
     "exception": false,
     "start_time": "2025-03-31T14:41:50.930779",
     "status": "completed"
    },
    "tags": []
   },
   "outputs": [
    {
     "name": "stdout",
     "output_type": "stream",
     "text": [
      "POSITIVE\n",
      "\n"
     ]
    }
   ],
   "source": [
    "model_config = types.GenerateContentConfig(\n",
    "    temperature=0.1,\n",
    "    top_p=1,\n",
    "    max_output_tokens=5,\n",
    ")\n",
    "\n",
    "zero_shot_prompt = \"\"\"Classify movie reviews as POSITIVE, NEUTRAL or NEGATIVE.\n",
    "Review: \"Her\" is a disturbing study revealing the direction\n",
    "humanity is headed if AI is allowed to keep evolving,\n",
    "unchecked. I wish there were more movies like this masterpiece.\n",
    "Sentiment: \"\"\"\n",
    "\n",
    "response = client.models.generate_content(\n",
    "    model='gemini-2.0-flash',\n",
    "    config=model_config,\n",
    "    contents=zero_shot_prompt)\n",
    "\n",
    "print(response.text)"
   ]
  },
  {
   "cell_type": "markdown",
   "id": "bc301f51",
   "metadata": {
    "id": "3b5568bdeb11",
    "papermill": {
     "duration": 0.015875,
     "end_time": "2025-03-31T14:41:51.347161",
     "exception": false,
     "start_time": "2025-03-31T14:41:51.331286",
     "status": "completed"
    },
    "tags": []
   },
   "source": [
    "#### Enum mode\n",
    "\n",
    "The models are trained to generate text, and while the Gemini 2.0 models are great at following instructions, other models can sometimes produce more text than you may wish for. In the preceding example, the model will output the label, but sometimes it can include a preceding \"Sentiment\" label, and without an output token limit, it may also add explanatory text afterwards. See [this prompt in AI Studio](https://aistudio.google.com/prompts/1gzKKgDHwkAvexG5Up0LMtl1-6jKMKe4g) for an example.\n",
    "\n",
    "The Gemini API has an [Enum mode](https://github.com/google-gemini/cookbook/blob/main/quickstarts/Enum.ipynb) feature that allows you to constrain the output to a fixed set of values."
   ]
  },
  {
   "cell_type": "code",
   "execution_count": 19,
   "id": "83c39ff8",
   "metadata": {
    "execution": {
     "iopub.execute_input": "2025-03-31T14:41:51.383508Z",
     "iopub.status.busy": "2025-03-31T14:41:51.383047Z",
     "iopub.status.idle": "2025-03-31T14:41:51.856873Z",
     "shell.execute_reply": "2025-03-31T14:41:51.855526Z"
    },
    "id": "ad118a56c598",
    "papermill": {
     "duration": 0.495145,
     "end_time": "2025-03-31T14:41:51.859595",
     "exception": false,
     "start_time": "2025-03-31T14:41:51.364450",
     "status": "completed"
    },
    "tags": []
   },
   "outputs": [
    {
     "name": "stdout",
     "output_type": "stream",
     "text": [
      "positive\n"
     ]
    }
   ],
   "source": [
    "import enum\n",
    "\n",
    "class Sentiment(enum.Enum):\n",
    "    POSITIVE = \"positive\"\n",
    "    NEUTRAL = \"neutral\"\n",
    "    NEGATIVE = \"negative\"\n",
    "\n",
    "\n",
    "response = client.models.generate_content(\n",
    "    model='gemini-2.0-flash',\n",
    "    config=types.GenerateContentConfig(\n",
    "        response_mime_type=\"text/x.enum\",\n",
    "        response_schema=Sentiment\n",
    "    ),\n",
    "    contents=zero_shot_prompt)\n",
    "\n",
    "print(response.text)"
   ]
  },
  {
   "cell_type": "markdown",
   "id": "eac90ed9",
   "metadata": {
    "papermill": {
     "duration": 0.017373,
     "end_time": "2025-03-31T14:41:51.894349",
     "exception": false,
     "start_time": "2025-03-31T14:41:51.876976",
     "status": "completed"
    },
    "tags": []
   },
   "source": [
    "When using constrained output like an enum, the Python SDK will attempt to convert the model's text response into a Python object automatically. It's stored in the `response.parsed` field."
   ]
  },
  {
   "cell_type": "code",
   "execution_count": 20,
   "id": "51ca0666",
   "metadata": {
    "execution": {
     "iopub.execute_input": "2025-03-31T14:41:51.928706Z",
     "iopub.status.busy": "2025-03-31T14:41:51.928298Z",
     "iopub.status.idle": "2025-03-31T14:41:51.935587Z",
     "shell.execute_reply": "2025-03-31T14:41:51.933519Z"
    },
    "papermill": {
     "duration": 0.027376,
     "end_time": "2025-03-31T14:41:51.938331",
     "exception": false,
     "start_time": "2025-03-31T14:41:51.910955",
     "status": "completed"
    },
    "tags": []
   },
   "outputs": [
    {
     "name": "stdout",
     "output_type": "stream",
     "text": [
      "Sentiment.POSITIVE\n",
      "<enum 'Sentiment'>\n"
     ]
    }
   ],
   "source": [
    "enum_response = response.parsed\n",
    "print(enum_response)\n",
    "print(type(enum_response))"
   ]
  },
  {
   "cell_type": "markdown",
   "id": "e1a645f7",
   "metadata": {
    "id": "0udiSwNbv45W",
    "papermill": {
     "duration": 0.01838,
     "end_time": "2025-03-31T14:41:51.974914",
     "exception": false,
     "start_time": "2025-03-31T14:41:51.956534",
     "status": "completed"
    },
    "tags": []
   },
   "source": [
    "### One-shot and few-shot\n",
    "\n",
    "Providing an example of the expected response is known as a \"one-shot\" prompt. When you provide multiple examples, it is a \"few-shot\" prompt.\n",
    "\n",
    "<table align=left>\n",
    "  <td>\n",
    "    <a target=\"_blank\" href=\"https://aistudio.google.com/prompts/1jjWkjUSoMXmLvMJ7IzADr_GxHPJVV2bg\"><img src=\"https://ai.google.dev/site-assets/images/marketing/home/icon-ais.png\" style=\"height: 24px\" height=24/> Open in AI Studio</a>\n",
    "  </td>\n",
    "</table>\n"
   ]
  },
  {
   "cell_type": "code",
   "execution_count": 21,
   "id": "5b360449",
   "metadata": {
    "execution": {
     "iopub.execute_input": "2025-03-31T14:41:52.018396Z",
     "iopub.status.busy": "2025-03-31T14:41:52.017882Z",
     "iopub.status.idle": "2025-03-31T14:41:52.509608Z",
     "shell.execute_reply": "2025-03-31T14:41:52.507608Z"
    },
    "id": "hd4mVUukwOKZ",
    "papermill": {
     "duration": 0.51793,
     "end_time": "2025-03-31T14:41:52.512580",
     "exception": false,
     "start_time": "2025-03-31T14:41:51.994650",
     "status": "completed"
    },
    "tags": []
   },
   "outputs": [
    {
     "name": "stdout",
     "output_type": "stream",
     "text": [
      "```json\n",
      "{\n",
      "\"size\": \"large\",\n",
      "\"type\": \"normal\",\n",
      "\"ingredients\": [\"cheese\", \"pineapple\"]\n",
      "}\n",
      "```\n",
      "\n"
     ]
    }
   ],
   "source": [
    "few_shot_prompt = \"\"\"Parse a customer's pizza order into valid JSON:\n",
    "\n",
    "EXAMPLE:\n",
    "I want a small pizza with cheese, tomato sauce, and pepperoni.\n",
    "JSON Response:\n",
    "```\n",
    "{\n",
    "\"size\": \"small\",\n",
    "\"type\": \"normal\",\n",
    "\"ingredients\": [\"cheese\", \"tomato sauce\", \"pepperoni\"]\n",
    "}\n",
    "```\n",
    "\n",
    "EXAMPLE:\n",
    "Can I get a large pizza with tomato sauce, basil and mozzarella\n",
    "JSON Response:\n",
    "```\n",
    "{\n",
    "\"size\": \"large\",\n",
    "\"type\": \"normal\",\n",
    "\"ingredients\": [\"tomato sauce\", \"basil\", \"mozzarella\"]\n",
    "}\n",
    "```\n",
    "\n",
    "ORDER:\n",
    "\"\"\"\n",
    "\n",
    "customer_order = \"Give me a large with cheese & pineapple\"\n",
    "\n",
    "response = client.models.generate_content(\n",
    "    model='gemini-2.0-flash',\n",
    "    config=types.GenerateContentConfig(\n",
    "        temperature=0.1,\n",
    "        top_p=1,\n",
    "        max_output_tokens=250,\n",
    "    ),\n",
    "    contents=[few_shot_prompt, customer_order])\n",
    "\n",
    "print(response.text)"
   ]
  },
  {
   "cell_type": "markdown",
   "id": "d74fb466",
   "metadata": {
    "id": "021293096f08",
    "papermill": {
     "duration": 0.01564,
     "end_time": "2025-03-31T14:41:52.545310",
     "exception": false,
     "start_time": "2025-03-31T14:41:52.529670",
     "status": "completed"
    },
    "tags": []
   },
   "source": [
    "#### JSON mode\n",
    "\n",
    "To provide control over the schema, and to ensure that you only receive JSON (with no other text or markdown), you can use the Gemini API's [JSON mode](https://github.com/google-gemini/cookbook/blob/main/quickstarts/JSON_mode.ipynb). This forces the model to constrain decoding, such that token selection is guided by the supplied schema."
   ]
  },
  {
   "cell_type": "code",
   "execution_count": 22,
   "id": "fffeb90b",
   "metadata": {
    "execution": {
     "iopub.execute_input": "2025-03-31T14:41:52.579103Z",
     "iopub.status.busy": "2025-03-31T14:41:52.578698Z",
     "iopub.status.idle": "2025-03-31T14:41:53.210163Z",
     "shell.execute_reply": "2025-03-31T14:41:53.208760Z"
    },
    "id": "50fbf0260912",
    "papermill": {
     "duration": 0.652416,
     "end_time": "2025-03-31T14:41:53.213447",
     "exception": false,
     "start_time": "2025-03-31T14:41:52.561031",
     "status": "completed"
    },
    "tags": []
   },
   "outputs": [
    {
     "name": "stdout",
     "output_type": "stream",
     "text": [
      "{\n",
      "  \"size\": \"large\",\n",
      "  \"ingredients\": [\"apple\", \"chocolate\"],\n",
      "  \"type\": \"dessert\"\n",
      "}\n"
     ]
    }
   ],
   "source": [
    "import typing_extensions as typing\n",
    "\n",
    "class PizzaOrder(typing.TypedDict):\n",
    "    size: str\n",
    "    ingredients: list[str]\n",
    "    type: str\n",
    "\n",
    "\n",
    "response = client.models.generate_content(\n",
    "    model='gemini-2.0-flash',\n",
    "    config=types.GenerateContentConfig(\n",
    "        temperature=0.1,\n",
    "        response_mime_type=\"application/json\",\n",
    "        response_schema=PizzaOrder,\n",
    "    ),\n",
    "    contents=\"Can I have a large dessert pizza with apple and chocolate\")\n",
    "\n",
    "print(response.text)"
   ]
  },
  {
   "cell_type": "markdown",
   "id": "84e7ec9a",
   "metadata": {
    "id": "4a93e338e57c",
    "papermill": {
     "duration": 0.016331,
     "end_time": "2025-03-31T14:41:53.247492",
     "exception": false,
     "start_time": "2025-03-31T14:41:53.231161",
     "status": "completed"
    },
    "tags": []
   },
   "source": [
    "### Chain of Thought (CoT)\n",
    "\n",
    "Direct prompting on LLMs can return answers quickly and (in terms of output token usage) efficiently, but they can be prone to hallucination. The answer may \"look\" correct (in terms of language and syntax) but is incorrect in terms of factuality and reasoning.\n",
    "\n",
    "Chain-of-Thought prompting is a technique where you instruct the model to output intermediate reasoning steps, and it typically gets better results, especially when combined with few-shot examples. It is worth noting that this technique doesn't completely eliminate hallucinations, and that it tends to cost more to run, due to the increased token count.\n",
    "\n",
    "Models like the Gemini family are trained to be \"chatty\" or \"thoughtful\" and will provide reasoning steps without prompting, so for this simple example you can ask the model to be more direct in the prompt to force a non-reasoning response. Try re-running this step if the model gets lucky and gets the answer correct on the first try."
   ]
  },
  {
   "cell_type": "code",
   "execution_count": 23,
   "id": "21ca94f3",
   "metadata": {
    "execution": {
     "iopub.execute_input": "2025-03-31T14:41:53.281808Z",
     "iopub.status.busy": "2025-03-31T14:41:53.281357Z",
     "iopub.status.idle": "2025-03-31T14:41:53.735606Z",
     "shell.execute_reply": "2025-03-31T14:41:53.733857Z"
    },
    "id": "5715555db1c1",
    "papermill": {
     "duration": 0.474693,
     "end_time": "2025-03-31T14:41:53.738377",
     "exception": false,
     "start_time": "2025-03-31T14:41:53.263684",
     "status": "completed"
    },
    "tags": []
   },
   "outputs": [
    {
     "name": "stdout",
     "output_type": "stream",
     "text": [
      "48\n",
      "\n"
     ]
    }
   ],
   "source": [
    "prompt = \"\"\"When I was 4 years old, my partner was 3 times my age. Now, I\n",
    "am 20 years old. How old is my partner? Return the answer directly.\"\"\"\n",
    "\n",
    "response = client.models.generate_content(\n",
    "    model='gemini-2.0-flash',\n",
    "    contents=prompt)\n",
    "\n",
    "print(response.text)"
   ]
  },
  {
   "cell_type": "markdown",
   "id": "7db7c2ef",
   "metadata": {
    "id": "e12b19677bfd",
    "papermill": {
     "duration": 0.015134,
     "end_time": "2025-03-31T14:41:53.769374",
     "exception": false,
     "start_time": "2025-03-31T14:41:53.754240",
     "status": "completed"
    },
    "tags": []
   },
   "source": [
    "Now try the same approach, but indicate to the model that it should \"think step by step\"."
   ]
  },
  {
   "cell_type": "code",
   "execution_count": 24,
   "id": "83ebcc5a",
   "metadata": {
    "execution": {
     "iopub.execute_input": "2025-03-31T14:41:53.803050Z",
     "iopub.status.busy": "2025-03-31T14:41:53.802627Z",
     "iopub.status.idle": "2025-03-31T14:41:54.701766Z",
     "shell.execute_reply": "2025-03-31T14:41:54.700347Z"
    },
    "id": "ffd7536a481f",
    "papermill": {
     "duration": 0.918993,
     "end_time": "2025-03-31T14:41:54.704570",
     "exception": false,
     "start_time": "2025-03-31T14:41:53.785577",
     "status": "completed"
    },
    "tags": []
   },
   "outputs": [
    {
     "data": {
      "text/markdown": [
       "Here's how to solve the problem step-by-step:\n",
       "\n",
       "1. **Find the age difference:** When you were 4, your partner was 3 times your age, meaning they were 4 * 3 = 12 years old.\n",
       "\n",
       "2. **Calculate the age gap:** The age difference between you and your partner is 12 - 4 = 8 years.\n",
       "\n",
       "3. **Determine the partner's current age:** Since the age difference remains constant, your partner is always 8 years older than you. Now that you are 20, your partner is 20 + 8 = 28 years old.\n",
       "\n",
       "**Therefore, your partner is 28 years old.**\n"
      ],
      "text/plain": [
       "<IPython.core.display.Markdown object>"
      ]
     },
     "execution_count": 24,
     "metadata": {},
     "output_type": "execute_result"
    }
   ],
   "source": [
    "prompt = \"\"\"When I was 4 years old, my partner was 3 times my age. Now,\n",
    "I am 20 years old. How old is my partner? Let's think step by step.\"\"\"\n",
    "\n",
    "response = client.models.generate_content(\n",
    "    model='gemini-2.0-flash',\n",
    "    contents=prompt)\n",
    "\n",
    "Markdown(response.text)"
   ]
  },
  {
   "cell_type": "markdown",
   "id": "e8124d57",
   "metadata": {
    "id": "oiLgBQJj0V53",
    "papermill": {
     "duration": 0.01862,
     "end_time": "2025-03-31T14:41:54.742252",
     "exception": false,
     "start_time": "2025-03-31T14:41:54.723632",
     "status": "completed"
    },
    "tags": []
   },
   "source": [
    "### ReAct: Reason and act\n",
    "\n",
    "In this example you will run a ReAct prompt directly in the Gemini API and perform the searching steps yourself. As this prompt follows a well-defined structure, there are frameworks available that wrap the prompt into easier-to-use APIs that make tool calls automatically, such as the LangChain example from the \"Prompting\" whitepaper.\n",
    "\n",
    "To try this out with the Wikipedia search engine, check out the [Searching Wikipedia with ReAct](https://github.com/google-gemini/cookbook/blob/main/examples/Search_Wikipedia_using_ReAct.ipynb) cookbook example.\n",
    "\n",
    "\n",
    "> Note: The prompt and in-context examples used here are from [https://github.com/ysymyth/ReAct](https://github.com/ysymyth/ReAct) which is published under an [MIT license](https://opensource.org/licenses/MIT), Copyright (c) 2023 Shunyu Yao.\n",
    "\n",
    "<table align=left>\n",
    "  <td>\n",
    "    <a target=\"_blank\" href=\"https://aistudio.google.com/prompts/18oo63Lwosd-bQ6Ay51uGogB3Wk3H8XMO\"><img src=\"https://ai.google.dev/site-assets/images/marketing/home/icon-ais.png\" style=\"height: 24px\" height=24/> Open in AI Studio</a>\n",
    "  </td>\n",
    "</table>\n"
   ]
  },
  {
   "cell_type": "code",
   "execution_count": 25,
   "id": "c3a459c6",
   "metadata": {
    "execution": {
     "iopub.execute_input": "2025-03-31T14:41:54.778015Z",
     "iopub.status.busy": "2025-03-31T14:41:54.777487Z",
     "iopub.status.idle": "2025-03-31T14:41:54.785359Z",
     "shell.execute_reply": "2025-03-31T14:41:54.784035Z"
    },
    "id": "cBgyNJ5z0VSs",
    "papermill": {
     "duration": 0.028871,
     "end_time": "2025-03-31T14:41:54.787706",
     "exception": false,
     "start_time": "2025-03-31T14:41:54.758835",
     "status": "completed"
    },
    "tags": []
   },
   "outputs": [],
   "source": [
    "model_instructions = \"\"\"\n",
    "Solve a question answering task with interleaving Thought, Action, Observation steps. Thought can reason about the current situation,\n",
    "Observation is understanding relevant information from an Action's output and Action can be one of three types:\n",
    " (1) <search>entity</search>, which searches the exact entity on Wikipedia and returns the first paragraph if it exists. If not, it\n",
    "     will return some similar entities to search and you can try to search the information from those topics.\n",
    " (2) <lookup>keyword</lookup>, which returns the next sentence containing keyword in the current context. This only does exact matches,\n",
    "     so keep your searches short.\n",
    " (3) <finish>answer</finish>, which returns the answer and finishes the task.\n",
    "\"\"\"\n",
    "\n",
    "example1 = \"\"\"Question\n",
    "Musician and satirist Allie Goertz wrote a song about the \"The Simpsons\" character Milhouse, who Matt Groening named after who?\n",
    "\n",
    "Thought 1\n",
    "The question simplifies to \"The Simpsons\" character Milhouse is named after who. I only need to search Milhouse and find who it is named after.\n",
    "\n",
    "Action 1\n",
    "<search>Milhouse</search>\n",
    "\n",
    "Observation 1\n",
    "Milhouse Mussolini Van Houten is a recurring character in the Fox animated television series The Simpsons voiced by Pamela Hayden and created by Matt Groening.\n",
    "\n",
    "Thought 2\n",
    "The paragraph does not tell who Milhouse is named after, maybe I can look up \"named after\".\n",
    "\n",
    "Action 2\n",
    "<lookup>named after</lookup>\n",
    "\n",
    "Observation 2\n",
    "Milhouse was named after U.S. president Richard Nixon, whose middle name was Milhous.\n",
    "\n",
    "Thought 3\n",
    "Milhouse was named after U.S. president Richard Nixon, so the answer is Richard Nixon.\n",
    "\n",
    "Action 3\n",
    "<finish>Richard Nixon</finish>\n",
    "\"\"\"\n",
    "\n",
    "example2 = \"\"\"Question\n",
    "What is the elevation range for the area that the eastern sector of the Colorado orogeny extends into?\n",
    "\n",
    "Thought 1\n",
    "I need to search Colorado orogeny, find the area that the eastern sector of the Colorado orogeny extends into, then find the elevation range of the area.\n",
    "\n",
    "Action 1\n",
    "<search>Colorado orogeny</search>\n",
    "\n",
    "Observation 1\n",
    "The Colorado orogeny was an episode of mountain building (an orogeny) in Colorado and surrounding areas.\n",
    "\n",
    "Thought 2\n",
    "It does not mention the eastern sector. So I need to look up eastern sector.\n",
    "\n",
    "Action 2\n",
    "<lookup>eastern sector</lookup>\n",
    "\n",
    "Observation 2\n",
    "The eastern sector extends into the High Plains and is called the Central Plains orogeny.\n",
    "\n",
    "Thought 3\n",
    "The eastern sector of Colorado orogeny extends into the High Plains. So I need to search High Plains and find its elevation range.\n",
    "\n",
    "Action 3\n",
    "<search>High Plains</search>\n",
    "\n",
    "Observation 3\n",
    "High Plains refers to one of two distinct land regions\n",
    "\n",
    "Thought 4\n",
    "I need to instead search High Plains (United States).\n",
    "\n",
    "Action 4\n",
    "<search>High Plains (United States)</search>\n",
    "\n",
    "Observation 4\n",
    "The High Plains are a subregion of the Great Plains. From east to west, the High Plains rise in elevation from around 1,800 to 7,000 ft (550 to 2,130m).\n",
    "\n",
    "Thought 5\n",
    "High Plains rise in elevation from around 1,800 to 7,000 ft, so the answer is 1,800 to 7,000 ft.\n",
    "\n",
    "Action 5\n",
    "<finish>1,800 to 7,000 ft</finish>\n",
    "\"\"\"\n",
    "\n",
    "# Come up with more examples yourself, or take a look through https://github.com/ysymyth/ReAct/"
   ]
  },
  {
   "cell_type": "markdown",
   "id": "663832d6",
   "metadata": {
    "id": "C3wbfstjTgey",
    "papermill": {
     "duration": 0.015882,
     "end_time": "2025-03-31T14:41:54.820446",
     "exception": false,
     "start_time": "2025-03-31T14:41:54.804564",
     "status": "completed"
    },
    "tags": []
   },
   "source": [
    "To capture a single step at a time, while ignoring any hallucinated Observation steps, you will use `stop_sequences` to end the generation process. The steps are `Thought`, `Action`, `Observation`, in that order."
   ]
  },
  {
   "cell_type": "code",
   "execution_count": 26,
   "id": "9fe1cd97",
   "metadata": {
    "execution": {
     "iopub.execute_input": "2025-03-31T14:41:54.853682Z",
     "iopub.status.busy": "2025-03-31T14:41:54.853230Z",
     "iopub.status.idle": "2025-03-31T14:41:55.398958Z",
     "shell.execute_reply": "2025-03-31T14:41:55.397592Z"
    },
    "id": "8mxrXRkRTdXm",
    "papermill": {
     "duration": 0.565523,
     "end_time": "2025-03-31T14:41:55.401586",
     "exception": false,
     "start_time": "2025-03-31T14:41:54.836063",
     "status": "completed"
    },
    "tags": []
   },
   "outputs": [
    {
     "name": "stdout",
     "output_type": "stream",
     "text": [
      "Thought 1\n",
      "I need to find the transformers NLP paper, then find the list of authors, and then find the youngest author.\n",
      "\n",
      "Action 1\n",
      "<search>transformers NLP paper</search>\n",
      "\n"
     ]
    }
   ],
   "source": [
    "question = \"\"\"Question\n",
    "Who was the youngest author listed on the transformers NLP paper?\n",
    "\"\"\"\n",
    "\n",
    "# You will perform the Action; so generate up to, but not including, the Observation.\n",
    "react_config = types.GenerateContentConfig(\n",
    "    stop_sequences=[\"\\nObservation\"],\n",
    "    system_instruction=model_instructions + example1 + example2,\n",
    ")\n",
    "\n",
    "# Create a chat that has the model instructions and examples pre-seeded.\n",
    "react_chat = client.chats.create(\n",
    "    model='gemini-2.0-flash',\n",
    "    config=react_config,\n",
    ")\n",
    "\n",
    "resp = react_chat.send_message(question)\n",
    "print(resp.text)"
   ]
  },
  {
   "cell_type": "markdown",
   "id": "e08f38ab",
   "metadata": {
    "id": "aW2PIdLbVv3l",
    "papermill": {
     "duration": 0.017351,
     "end_time": "2025-03-31T14:41:55.435293",
     "exception": false,
     "start_time": "2025-03-31T14:41:55.417942",
     "status": "completed"
    },
    "tags": []
   },
   "source": [
    "Now you can perform this research yourself and supply it back to the model."
   ]
  },
  {
   "cell_type": "code",
   "execution_count": 27,
   "id": "82e8abce",
   "metadata": {
    "execution": {
     "iopub.execute_input": "2025-03-31T14:41:55.472218Z",
     "iopub.status.busy": "2025-03-31T14:41:55.471018Z",
     "iopub.status.idle": "2025-03-31T14:41:56.140744Z",
     "shell.execute_reply": "2025-03-31T14:41:56.139357Z"
    },
    "id": "mLMc0DZaV9g2",
    "papermill": {
     "duration": 0.690761,
     "end_time": "2025-03-31T14:41:56.144128",
     "exception": false,
     "start_time": "2025-03-31T14:41:55.453367",
     "status": "completed"
    },
    "tags": []
   },
   "outputs": [
    {
     "name": "stdout",
     "output_type": "stream",
     "text": [
      "Thought 2\n",
      "I have found the paper and the list of authors. I need to find out the youngest author. I don't have their ages. I will try searching for each author's age.\n",
      "\n",
      "Action 2\n",
      "<search>Ashish Vaswani age</search>\n",
      "\n"
     ]
    }
   ],
   "source": [
    "observation = \"\"\"Observation 1\n",
    "[1706.03762] Attention Is All You Need\n",
    "Ashish Vaswani, Noam Shazeer, Niki Parmar, Jakob Uszkoreit, Llion Jones, Aidan N. Gomez, Lukasz Kaiser, Illia Polosukhin\n",
    "We propose a new simple network architecture, the Transformer, based solely on attention mechanisms, dispensing with recurrence and convolutions entirely.\n",
    "\"\"\"\n",
    "resp = react_chat.send_message(observation)\n",
    "print(resp.text)"
   ]
  },
  {
   "cell_type": "markdown",
   "id": "f246a3d4",
   "metadata": {
    "id": "bo0tzf4nX6dA",
    "papermill": {
     "duration": 0.016953,
     "end_time": "2025-03-31T14:41:56.178203",
     "exception": false,
     "start_time": "2025-03-31T14:41:56.161250",
     "status": "completed"
    },
    "tags": []
   },
   "source": [
    "This process repeats until the `<finish>` action is reached. You can continue running this yourself if you like, or try the [Wikipedia example](https://github.com/google-gemini/cookbook/blob/main/examples/Search_Wikipedia_using_ReAct.ipynb) to see a fully automated ReAct system at work."
   ]
  },
  {
   "cell_type": "markdown",
   "id": "fdfaa9a1",
   "metadata": {
    "papermill": {
     "duration": 0.017807,
     "end_time": "2025-03-31T14:41:56.212488",
     "exception": false,
     "start_time": "2025-03-31T14:41:56.194681",
     "status": "completed"
    },
    "tags": []
   },
   "source": [
    "## Thinking mode\n",
    "\n",
    "The experiemental Gemini Flash 2.0 \"Thinking\" model has been trained to generate the \"thinking process\" the model goes through as part of its response. As a result, the Flash Thinking model is capable of stronger reasoning capabilities in its responses.\n",
    "\n",
    "Using a \"thinking mode\" model can provide you with high-quality responses without needing specialised prompting like the previous approaches. One reason this technique is effective is that you induce the model to generate relevant information (\"brainstorming\", or \"thoughts\") that is then used as part of the context in which the final response is generated.\n",
    "\n",
    "Note that when you use the API, you get the final response from the model, but the thoughts are not captured. To see the intermediate thoughts, try out [the thinking mode model in AI Studio](https://aistudio.google.com/prompts/new_chat?model=gemini-2.0-flash-thinking-exp-01-21).\n",
    "\n",
    "<table align=left>\n",
    "  <td>\n",
    "    <a target=\"_blank\" href=\"https://aistudio.google.com/prompts/1Z991SV7lZZZqioOiqIUPv9a9ix-ws4zk\"><img src=\"https://ai.google.dev/site-assets/images/marketing/home/icon-ais.png\" style=\"height: 24px\" height=24/> Open in AI Studio</a>\n",
    "  </td>\n",
    "</table>"
   ]
  },
  {
   "cell_type": "code",
   "execution_count": 28,
   "id": "62131ec9",
   "metadata": {
    "execution": {
     "iopub.execute_input": "2025-03-31T14:41:56.249299Z",
     "iopub.status.busy": "2025-03-31T14:41:56.248815Z",
     "iopub.status.idle": "2025-03-31T14:42:01.531101Z",
     "shell.execute_reply": "2025-03-31T14:42:01.529466Z"
    },
    "papermill": {
     "duration": 5.304546,
     "end_time": "2025-03-31T14:42:01.534018",
     "exception": false,
     "start_time": "2025-03-31T14:41:56.229472",
     "status": "completed"
    },
    "tags": []
   },
   "outputs": [
    {
     "data": {
      "text/markdown": [
       "The youngest author listed on the \"Attention is All You Need\" paper, which introduced the Transformer architecture, is **Aidan N. Gomez**.\n",
       "\n",
       "He was born in **1995**.\n",
       "\n",
       "The paper was published in 2017, making him approximately **22 years old** at the time of publication."
      ],
      "text/plain": [
       "<IPython.core.display.Markdown object>"
      ]
     },
     "execution_count": 28,
     "metadata": {},
     "output_type": "execute_result"
    }
   ],
   "source": [
    "import io\n",
    "from IPython.display import Markdown, clear_output\n",
    "\n",
    "\n",
    "response = client.models.generate_content_stream(\n",
    "    model='gemini-2.0-flash-thinking-exp',\n",
    "    contents='Who was the youngest author listed on the transformers NLP paper?',\n",
    ")\n",
    "\n",
    "buf = io.StringIO()\n",
    "for chunk in response:\n",
    "    buf.write(chunk.text)\n",
    "    # Display the response as it is streamed\n",
    "    print(chunk.text, end='')\n",
    "\n",
    "# And then render the finished response as formatted markdown.\n",
    "clear_output()\n",
    "Markdown(buf.getvalue())"
   ]
  },
  {
   "cell_type": "markdown",
   "id": "4a72b4d5",
   "metadata": {
    "id": "jPiZ_eIIaVPt",
    "papermill": {
     "duration": 0.016696,
     "end_time": "2025-03-31T14:42:01.568362",
     "exception": false,
     "start_time": "2025-03-31T14:42:01.551666",
     "status": "completed"
    },
    "tags": []
   },
   "source": [
    "## Code prompting"
   ]
  },
  {
   "cell_type": "markdown",
   "id": "9d44c1d1",
   "metadata": {
    "id": "ZinKamwXeR6C",
    "papermill": {
     "duration": 0.016298,
     "end_time": "2025-03-31T14:42:01.601387",
     "exception": false,
     "start_time": "2025-03-31T14:42:01.585089",
     "status": "completed"
    },
    "tags": []
   },
   "source": [
    "### Generating code\n",
    "\n",
    "The Gemini family of models can be used to generate code, configuration and scripts. Generating code can be helpful when learning to code, learning a new language or for rapidly generating a first draft.\n",
    "\n",
    "It's important to be aware that since LLMs can make mistakes, and can repeat training data, it's essential to read and test your code first, and comply with any relevant licenses.\n",
    "\n",
    "<table align=left>\n",
    "  <td>\n",
    "    <a target=\"_blank\" href=\"https://aistudio.google.com/prompts/1YX71JGtzDjXQkgdes8bP6i3oH5lCRKxv\"><img src=\"https://ai.google.dev/site-assets/images/marketing/home/icon-ais.png\" style=\"height: 24px\" height=24/> Open in AI Studio</a>\n",
    "  </td>\n",
    "</table>"
   ]
  },
  {
   "cell_type": "code",
   "execution_count": 29,
   "id": "0178a8b8",
   "metadata": {
    "execution": {
     "iopub.execute_input": "2025-03-31T14:42:01.636718Z",
     "iopub.status.busy": "2025-03-31T14:42:01.636268Z",
     "iopub.status.idle": "2025-03-31T14:42:02.147786Z",
     "shell.execute_reply": "2025-03-31T14:42:02.146301Z"
    },
    "id": "fOQP9pqmeUO1",
    "papermill": {
     "duration": 0.532665,
     "end_time": "2025-03-31T14:42:02.150417",
     "exception": false,
     "start_time": "2025-03-31T14:42:01.617752",
     "status": "completed"
    },
    "tags": []
   },
   "outputs": [
    {
     "data": {
      "text/markdown": [
       "```python\n",
       "def factorial(n):\n",
       "  if n == 0:\n",
       "    return 1\n",
       "  else:\n",
       "    return n * factorial(n-1)\n",
       "```"
      ],
      "text/plain": [
       "<IPython.core.display.Markdown object>"
      ]
     },
     "execution_count": 29,
     "metadata": {},
     "output_type": "execute_result"
    }
   ],
   "source": [
    "# The Gemini models love to talk, so it helps to specify they stick to the code if that\n",
    "# is all that you want.\n",
    "code_prompt = \"\"\"\n",
    "Write a Python function to calculate the factorial of a number. No explanation, provide only the code.\n",
    "\"\"\"\n",
    "\n",
    "response = client.models.generate_content(\n",
    "    model='gemini-2.0-flash',\n",
    "    config=types.GenerateContentConfig(\n",
    "        temperature=1,\n",
    "        top_p=1,\n",
    "        max_output_tokens=1024,\n",
    "    ),\n",
    "    contents=code_prompt)\n",
    "\n",
    "Markdown(response.text)"
   ]
  },
  {
   "cell_type": "markdown",
   "id": "521afc4d",
   "metadata": {
    "id": "wlBMWSFhgVRQ",
    "papermill": {
     "duration": 0.017965,
     "end_time": "2025-03-31T14:42:02.186310",
     "exception": false,
     "start_time": "2025-03-31T14:42:02.168345",
     "status": "completed"
    },
    "tags": []
   },
   "source": [
    "### Code execution\n",
    "\n",
    "The Gemini API can automatically run generated code too, and will return the output.\n",
    "\n",
    "<table align=left>\n",
    "  <td>\n",
    "    <a target=\"_blank\" href=\"https://aistudio.google.com/prompts/11veFr_VYEwBWcLkhNLr-maCG0G8sS_7Z\"><img src=\"https://ai.google.dev/site-assets/images/marketing/home/icon-ais.png\" style=\"height: 24px\" height=24/> Open in AI Studio</a>\n",
    "  </td>\n",
    "</table>"
   ]
  },
  {
   "cell_type": "code",
   "execution_count": 30,
   "id": "1136740c",
   "metadata": {
    "execution": {
     "iopub.execute_input": "2025-03-31T14:42:02.225132Z",
     "iopub.status.busy": "2025-03-31T14:42:02.224620Z",
     "iopub.status.idle": "2025-03-31T14:42:04.282343Z",
     "shell.execute_reply": "2025-03-31T14:42:04.280303Z"
    },
    "id": "jT3OfWYfhjRL",
    "papermill": {
     "duration": 2.079797,
     "end_time": "2025-03-31T14:42:04.285141",
     "exception": false,
     "start_time": "2025-03-31T14:42:02.205344",
     "status": "completed"
    },
    "tags": []
   },
   "outputs": [
    {
     "name": "stdout",
     "output_type": "stream",
     "text": [
      "{'text': 'Okay, I can do that. First, I need to generate the first 14 odd '\n",
      "         'prime numbers. Remember that a prime number is a number greater than '\n",
      "         '1 that has only two divisors: 1 and itself. The first few prime '\n",
      "         'numbers are 2, 3, 5, 7, 11, and so on. Since the question asks for '\n",
      "         'odd prime numbers, I will exclude 2. After generating the list, I '\n",
      "         'will calculate their sum.\\n'\n",
      "         '\\n'}\n",
      "-----\n",
      "{'executable_code': {'code': 'primes = [3, 5, 7, 11, 13, 17, 19, 23, 29, 31, '\n",
      "                             '37, 41, 43, 47]\\n'\n",
      "                             'sum_of_primes = sum(primes)\\n'\n",
      "                             \"print(f'{primes=}')\\n\"\n",
      "                             \"print(f'{sum_of_primes=}')\\n\",\n",
      "                     'language': 'PYTHON'}}\n",
      "-----\n",
      "{'code_execution_result': {'outcome': 'OUTCOME_OK',\n",
      "                           'output': 'primes=[3, 5, 7, 11, 13, 17, 19, 23, 29, '\n",
      "                                     '31, 37, 41, 43, 47]\\n'\n",
      "                                     'sum_of_primes=326\\n'}}\n",
      "-----\n",
      "{'text': 'The first 14 odd prime numbers are 3, 5, 7, 11, 13, 17, 19, 23, 29, '\n",
      "         '31, 37, 41, 43, and 47. Their sum is 326.\\n'}\n",
      "-----\n"
     ]
    }
   ],
   "source": [
    "from pprint import pprint\n",
    "\n",
    "config = types.GenerateContentConfig(\n",
    "    tools=[types.Tool(code_execution=types.ToolCodeExecution())],\n",
    ")\n",
    "\n",
    "code_exec_prompt = \"\"\"\n",
    "Generate the first 14 odd prime numbers, then calculate their sum.\n",
    "\"\"\"\n",
    "\n",
    "response = client.models.generate_content(\n",
    "    model='gemini-2.0-flash',\n",
    "    config=config,\n",
    "    contents=code_exec_prompt)\n",
    "\n",
    "for part in response.candidates[0].content.parts:\n",
    "  pprint(part.to_json_dict())\n",
    "  print(\"-----\")"
   ]
  },
  {
   "cell_type": "markdown",
   "id": "f066ba67",
   "metadata": {
    "id": "ZspT1GSkjG6d",
    "papermill": {
     "duration": 0.017031,
     "end_time": "2025-03-31T14:42:04.319696",
     "exception": false,
     "start_time": "2025-03-31T14:42:04.302665",
     "status": "completed"
    },
    "tags": []
   },
   "source": [
    "This response contains multiple parts, including an opening and closing text part that represent regular responses, an `executable_code` part that represents generated code and a `code_execution_result` part that represents the results from running the generated code.\n",
    "\n",
    "You can explore them individually."
   ]
  },
  {
   "cell_type": "code",
   "execution_count": 31,
   "id": "8e40e47e",
   "metadata": {
    "execution": {
     "iopub.execute_input": "2025-03-31T14:42:04.356817Z",
     "iopub.status.busy": "2025-03-31T14:42:04.355088Z",
     "iopub.status.idle": "2025-03-31T14:42:04.373031Z",
     "shell.execute_reply": "2025-03-31T14:42:04.371668Z"
    },
    "papermill": {
     "duration": 0.039189,
     "end_time": "2025-03-31T14:42:04.375621",
     "exception": false,
     "start_time": "2025-03-31T14:42:04.336432",
     "status": "completed"
    },
    "tags": []
   },
   "outputs": [
    {
     "data": {
      "text/markdown": [
       "Okay, I can do that. First, I need to generate the first 14 odd prime numbers. Remember that a prime number is a number greater than 1 that has only two divisors: 1 and itself. The first few prime numbers are 2, 3, 5, 7, 11, and so on. Since the question asks for odd prime numbers, I will exclude 2. After generating the list, I will calculate their sum.\n",
       "\n"
      ],
      "text/plain": [
       "<IPython.core.display.Markdown object>"
      ]
     },
     "metadata": {},
     "output_type": "display_data"
    },
    {
     "data": {
      "text/markdown": [
       "```python\n",
       "primes = [3, 5, 7, 11, 13, 17, 19, 23, 29, 31, 37, 41, 43, 47]\n",
       "sum_of_primes = sum(primes)\n",
       "print(f'{primes=}')\n",
       "print(f'{sum_of_primes=}')\n",
       "\n",
       "```"
      ],
      "text/plain": [
       "<IPython.core.display.Markdown object>"
      ]
     },
     "metadata": {},
     "output_type": "display_data"
    },
    {
     "data": {
      "text/markdown": [
       "```\n",
       "primes=[3, 5, 7, 11, 13, 17, 19, 23, 29, 31, 37, 41, 43, 47]\n",
       "sum_of_primes=326\n",
       "\n",
       "```"
      ],
      "text/plain": [
       "<IPython.core.display.Markdown object>"
      ]
     },
     "metadata": {},
     "output_type": "display_data"
    },
    {
     "data": {
      "text/markdown": [
       "The first 14 odd prime numbers are 3, 5, 7, 11, 13, 17, 19, 23, 29, 31, 37, 41, 43, and 47. Their sum is 326.\n"
      ],
      "text/plain": [
       "<IPython.core.display.Markdown object>"
      ]
     },
     "metadata": {},
     "output_type": "display_data"
    }
   ],
   "source": [
    "for part in response.candidates[0].content.parts:\n",
    "    if part.text:\n",
    "        display(Markdown(part.text))\n",
    "    elif part.executable_code:\n",
    "        display(Markdown(f'```python\\n{part.executable_code.code}\\n```'))\n",
    "    elif part.code_execution_result:\n",
    "        if part.code_execution_result.outcome != 'OUTCOME_OK':\n",
    "            display(Markdown(f'## Status {part.code_execution_result.outcome}'))\n",
    "\n",
    "        display(Markdown(f'```\\n{part.code_execution_result.output}\\n```'))"
   ]
  },
  {
   "cell_type": "markdown",
   "id": "c4f739ff",
   "metadata": {
    "id": "1gUX8QzCj4d5",
    "papermill": {
     "duration": 0.018205,
     "end_time": "2025-03-31T14:42:04.413283",
     "exception": false,
     "start_time": "2025-03-31T14:42:04.395078",
     "status": "completed"
    },
    "tags": []
   },
   "source": [
    "### Explaining code\n",
    "\n",
    "The Gemini family of models can explain code to you too. In this example, you pass a [bash script](https://github.com/magicmonty/bash-git-prompt) and ask some questions.\n",
    "\n",
    "<table align=left>\n",
    "  <td>\n",
    "    <a target=\"_blank\" href=\"https://aistudio.google.com/prompts/1N7LGzWzCYieyOf_7bAG4plrmkpDNmUyb\"><img src=\"https://ai.google.dev/site-assets/images/marketing/home/icon-ais.png\" style=\"height: 24px\" height=24/> Open in AI Studio</a>\n",
    "  </td>\n",
    "</table>"
   ]
  },
  {
   "cell_type": "code",
   "execution_count": 32,
   "id": "3de1353a",
   "metadata": {
    "execution": {
     "iopub.execute_input": "2025-03-31T14:42:04.454553Z",
     "iopub.status.busy": "2025-03-31T14:42:04.454091Z",
     "iopub.status.idle": "2025-03-31T14:42:06.981885Z",
     "shell.execute_reply": "2025-03-31T14:42:06.980404Z"
    },
    "id": "7_jPMMoxkIEb",
    "papermill": {
     "duration": 2.55144,
     "end_time": "2025-03-31T14:42:06.985399",
     "exception": false,
     "start_time": "2025-03-31T14:42:04.433959",
     "status": "completed"
    },
    "tags": []
   },
   "outputs": [
    {
     "data": {
      "text/markdown": [
       "This file is a Bash script designed to enhance your command-line prompt with information about the current Git repository.  In other words, it customizes your prompt to show things like the current branch, whether there are uncommitted changes, and how far ahead or behind your local branch is compared to the remote branch.\n",
       "\n",
       "Here's a breakdown:\n",
       "\n",
       "*   **Purpose:**  To provide Git status information directly in your command prompt. This allows you to quickly see the state of your repository without having to run `git status` manually.\n",
       "\n",
       "*   **How it Works (simplified):**\n",
       "\n",
       "    1.  **Checks if in a Git Repository:** The script determines if the current directory is within a Git repository.\n",
       "    2.  **Fetches Git Status:** If inside a Git repository, it executes Git commands to gather information about the current branch, changes, commits, etc.\n",
       "    3.  **Formats and Colors:**  It uses color codes and symbols defined in the script and customizable themes to format the Git status information.\n",
       "    4.  **Updates the Prompt:**  It sets the `PS1` environment variable (the primary prompt string) to include the formatted Git status.  This makes the information appear in your command prompt.\n",
       "    5.  **Asynchronous Fetching (optional):** It can asynchronously fetch remote branch information to avoid slowing down the prompt.\n",
       "\n",
       "*   **Why Use It?**\n",
       "\n",
       "    *   **Improved Workflow:** Quickly view Git status at a glance, making it easier to track changes and manage your repository.\n",
       "    *   **Customization:** You can customize the appearance of the prompt, including colors, symbols, and information displayed.\n",
       "    *   **Information at a Glance:** Always know the state of your git repository without having to manually check.\n"
      ],
      "text/plain": [
       "<IPython.core.display.Markdown object>"
      ]
     },
     "execution_count": 32,
     "metadata": {},
     "output_type": "execute_result"
    }
   ],
   "source": [
    "file_contents = !curl https://raw.githubusercontent.com/magicmonty/bash-git-prompt/refs/heads/master/gitprompt.sh\n",
    "\n",
    "explain_prompt = f\"\"\"\n",
    "Please explain what this file does at a very high level. What is it, and why would I use it?\n",
    "\n",
    "```\n",
    "{file_contents}\n",
    "```\n",
    "\"\"\"\n",
    "\n",
    "response = client.models.generate_content(\n",
    "    model='gemini-2.0-flash',\n",
    "    contents=explain_prompt)\n",
    "\n",
    "Markdown(response.text)"
   ]
  },
  {
   "cell_type": "markdown",
   "id": "380ae4eb",
   "metadata": {
    "execution": {
     "iopub.execute_input": "2025-03-31T10:13:37.786561Z",
     "iopub.status.busy": "2025-03-31T10:13:37.785659Z",
     "iopub.status.idle": "2025-03-31T10:13:37.795027Z",
     "shell.execute_reply": "2025-03-31T10:13:37.793557Z",
     "shell.execute_reply.started": "2025-03-31T10:13:37.786518Z"
    },
    "id": "2a8266d97ce5",
    "papermill": {
     "duration": 0.017412,
     "end_time": "2025-03-31T14:42:07.024054",
     "exception": false,
     "start_time": "2025-03-31T14:42:07.006642",
     "status": "completed"
    },
    "tags": []
   },
   "source": [
    "## Learn more\n",
    "\n",
    "To learn more about prompting in depth:\n",
    "\n",
    "* Check out the whitepaper issued with today\"'\"s content,\n",
    "* Try out the apps listed at the top of this notebook ([TextFX](https://textfx.withgoogle.com/), [SQL Talk](https://sql-talk-r5gdynozbq-uc.a.run.app/) and [NotebookLM](https://notebooklm.google/)),\n",
    "* Read the [Introduction to Prompting](https://ai.google.dev/gemini-api/docs/prompting-intro) from the Gemini API docs,\n",
    "* Explore the Gemini API\"'\"s [prompt gallery](https://ai.google.dev/gemini-api/prompts) and try them out in AI Studio,\n",
    "* Check out the Gemini API cookbook for [inspirational examples](https://github.com/google-gemini/cookbook/blob/main/examples/) and [educational quickstarts](https://github.com/google-gemini/cookbook/blob/main/quickstarts/).\n",
    "\n",
    "Be sure to check out the codelabs on day 3 too, where you will explore some more advanced prompting with code execution.\n",
    "\n",
    "And please share anything exciting you have tried in the Discord!\n",
    "\n",
    "*- [Mark McD](https://linktr.ee/markmcd)*"
   ]
  },
  {
   "cell_type": "code",
   "execution_count": 33,
   "id": "9ee51ef5",
   "metadata": {
    "execution": {
     "iopub.execute_input": "2025-03-31T14:42:07.062407Z",
     "iopub.status.busy": "2025-03-31T14:42:07.061925Z",
     "iopub.status.idle": "2025-03-31T14:42:09.366638Z",
     "shell.execute_reply": "2025-03-31T14:42:09.365229Z"
    },
    "papermill": {
     "duration": 2.327525,
     "end_time": "2025-03-31T14:42:09.369110",
     "exception": false,
     "start_time": "2025-03-31T14:42:07.041585",
     "status": "completed"
    },
    "tags": []
   },
   "outputs": [
    {
     "name": "stdout",
     "output_type": "stream",
     "text": [
      "Function response was None.\n",
      "-----\n"
     ]
    }
   ],
   "source": [
    "from pprint import pprint\n",
    "from kaggle_secrets import UserSecretsClient\n",
    "import google.generativeai as genai\n",
    "import io\n",
    "import sys\n",
    "\n",
    "GOOGLE_API_KEY = UserSecretsClient().get_secret(\"GOOGLE_API_KEY\")\n",
    "\n",
    "genai.configure(api_key=GOOGLE_API_KEY)\n",
    "\n",
    "model = genai.GenerativeModel('gemini-2.0-flash') # using available model\n",
    "\n",
    "tools = [\n",
    "    {\n",
    "        \"function_declarations\": [\n",
    "            {\n",
    "                \"name\": \"code_execution\",\n",
    "                \"description\": \"Executes code and returns the result.\",\n",
    "                \"parameters\": {\n",
    "                    \"type\": \"OBJECT\",\n",
    "                    \"properties\": {\n",
    "                        \"code\": {\n",
    "                            \"type\": \"STRING\",\n",
    "                            \"description\": \"The code to execute.\",\n",
    "                        },\n",
    "                    },\n",
    "                    \"required\": [\"code\"],\n",
    "                },\n",
    "            }\n",
    "        ]\n",
    "    }\n",
    "]\n",
    "\n",
    "code_exec_prompt = \"\"\"\n",
    "Write and execute Python code to:\n",
    "1. Generate the first 10 odd numbers.\n",
    "2. Calculate the sum of those 10 odd numbers.\n",
    "3. Print the list of the 10 odd numbers and their sum.\n",
    "\n",
    "Ensure the code only includes odd numbers in the list.\n",
    "\"\"\"\n",
    "\n",
    "response = model.generate_content(\n",
    "    contents=code_exec_prompt,\n",
    "    tools=tools\n",
    ")\n",
    "\n",
    "for candidate in response.candidates:\n",
    "    for part in candidate.content.parts:\n",
    "        if hasattr(part, \"function_response\"):\n",
    "            try:\n",
    "                if part.function_response.response is not None:\n",
    "                    function_response_content = part.function_response.response\n",
    "                    code = function_response_content['code']\n",
    "\n",
    "                    # Redirect stdout\n",
    "                    old_stdout = sys.stdout\n",
    "                    new_stdout = io.StringIO()\n",
    "                    sys.stdout = new_stdout\n",
    "\n",
    "                    exec(code)\n",
    "\n",
    "                    # Restore stdout and get the captured output\n",
    "                    sys.stdout = old_stdout\n",
    "                    output = new_stdout.getvalue()\n",
    "\n",
    "                    print(\"Code Output:\")\n",
    "                    print(output)\n",
    "                else:\n",
    "                    print(\"Function response was None.\")\n",
    "\n",
    "            except (KeyError) as e:\n",
    "                print(f\"Error processing function response: {e}\")\n",
    "        elif hasattr(part, \"text\"):\n",
    "            print(f\"Text: {part.text}\")\n",
    "        else:\n",
    "            print(\"Unknown part type\")\n",
    "        print(\"-----\")"
   ]
  },
  {
   "cell_type": "code",
   "execution_count": 34,
   "id": "0efe3657",
   "metadata": {
    "execution": {
     "iopub.execute_input": "2025-03-31T14:42:09.407163Z",
     "iopub.status.busy": "2025-03-31T14:42:09.406721Z",
     "iopub.status.idle": "2025-03-31T14:42:09.800533Z",
     "shell.execute_reply": "2025-03-31T14:42:09.799240Z"
    },
    "papermill": {
     "duration": 0.417301,
     "end_time": "2025-03-31T14:42:09.804009",
     "exception": false,
     "start_time": "2025-03-31T14:42:09.386708",
     "status": "completed"
    },
    "tags": []
   },
   "outputs": [
    {
     "name": "stdout",
     "output_type": "stream",
     "text": [
      "Model(name='models/chat-bison-001',\n",
      "      base_model_id='',\n",
      "      version='001',\n",
      "      display_name='PaLM 2 Chat (Legacy)',\n",
      "      description='A legacy text-only model optimized for chat conversations',\n",
      "      input_token_limit=4096,\n",
      "      output_token_limit=1024,\n",
      "      supported_generation_methods=['generateMessage', 'countMessageTokens'],\n",
      "      temperature=0.25,\n",
      "      max_temperature=None,\n",
      "      top_p=0.95,\n",
      "      top_k=40)\n",
      "Model(name='models/text-bison-001',\n",
      "      base_model_id='',\n",
      "      version='001',\n",
      "      display_name='PaLM 2 (Legacy)',\n",
      "      description='A legacy model that understands text and generates text as an output',\n",
      "      input_token_limit=8196,\n",
      "      output_token_limit=1024,\n",
      "      supported_generation_methods=['generateText', 'countTextTokens', 'createTunedTextModel'],\n",
      "      temperature=0.7,\n",
      "      max_temperature=None,\n",
      "      top_p=0.95,\n",
      "      top_k=40)\n",
      "Model(name='models/embedding-gecko-001',\n",
      "      base_model_id='',\n",
      "      version='001',\n",
      "      display_name='Embedding Gecko',\n",
      "      description='Obtain a distributed representation of a text.',\n",
      "      input_token_limit=1024,\n",
      "      output_token_limit=1,\n",
      "      supported_generation_methods=['embedText', 'countTextTokens'],\n",
      "      temperature=None,\n",
      "      max_temperature=None,\n",
      "      top_p=None,\n",
      "      top_k=None)\n",
      "Model(name='models/gemini-1.0-pro-vision-latest',\n",
      "      base_model_id='',\n",
      "      version='001',\n",
      "      display_name='Gemini 1.0 Pro Vision',\n",
      "      description=('The original Gemini 1.0 Pro Vision model version which was optimized for '\n",
      "                   'image understanding. Gemini 1.0 Pro Vision was deprecated on July 12, 2024. '\n",
      "                   'Move to a newer Gemini version.'),\n",
      "      input_token_limit=12288,\n",
      "      output_token_limit=4096,\n",
      "      supported_generation_methods=['generateContent', 'countTokens'],\n",
      "      temperature=0.4,\n",
      "      max_temperature=None,\n",
      "      top_p=1.0,\n",
      "      top_k=32)\n",
      "Model(name='models/gemini-pro-vision',\n",
      "      base_model_id='',\n",
      "      version='001',\n",
      "      display_name='Gemini 1.0 Pro Vision',\n",
      "      description=('The original Gemini 1.0 Pro Vision model version which was optimized for '\n",
      "                   'image understanding. Gemini 1.0 Pro Vision was deprecated on July 12, 2024. '\n",
      "                   'Move to a newer Gemini version.'),\n",
      "      input_token_limit=12288,\n",
      "      output_token_limit=4096,\n",
      "      supported_generation_methods=['generateContent', 'countTokens'],\n",
      "      temperature=0.4,\n",
      "      max_temperature=None,\n",
      "      top_p=1.0,\n",
      "      top_k=32)\n",
      "Model(name='models/gemini-1.5-pro-latest',\n",
      "      base_model_id='',\n",
      "      version='001',\n",
      "      display_name='Gemini 1.5 Pro Latest',\n",
      "      description=('Alias that points to the most recent production (non-experimental) release '\n",
      "                   'of Gemini 1.5 Pro, our mid-size multimodal model that supports up to 2 '\n",
      "                   'million tokens.'),\n",
      "      input_token_limit=2000000,\n",
      "      output_token_limit=8192,\n",
      "      supported_generation_methods=['generateContent', 'countTokens'],\n",
      "      temperature=1.0,\n",
      "      max_temperature=2.0,\n",
      "      top_p=0.95,\n",
      "      top_k=40)\n",
      "Model(name='models/gemini-1.5-pro-001',\n",
      "      base_model_id='',\n",
      "      version='001',\n",
      "      display_name='Gemini 1.5 Pro 001',\n",
      "      description=('Stable version of Gemini 1.5 Pro, our mid-size multimodal model that '\n",
      "                   'supports up to 2 million tokens, released in May of 2024.'),\n",
      "      input_token_limit=2000000,\n",
      "      output_token_limit=8192,\n",
      "      supported_generation_methods=['generateContent', 'countTokens', 'createCachedContent'],\n",
      "      temperature=1.0,\n",
      "      max_temperature=2.0,\n",
      "      top_p=0.95,\n",
      "      top_k=64)\n",
      "Model(name='models/gemini-1.5-pro-002',\n",
      "      base_model_id='',\n",
      "      version='002',\n",
      "      display_name='Gemini 1.5 Pro 002',\n",
      "      description=('Stable version of Gemini 1.5 Pro, our mid-size multimodal model that '\n",
      "                   'supports up to 2 million tokens, released in September of 2024.'),\n",
      "      input_token_limit=2000000,\n",
      "      output_token_limit=8192,\n",
      "      supported_generation_methods=['generateContent', 'countTokens', 'createCachedContent'],\n",
      "      temperature=1.0,\n",
      "      max_temperature=2.0,\n",
      "      top_p=0.95,\n",
      "      top_k=40)\n",
      "Model(name='models/gemini-1.5-pro',\n",
      "      base_model_id='',\n",
      "      version='001',\n",
      "      display_name='Gemini 1.5 Pro',\n",
      "      description=('Stable version of Gemini 1.5 Pro, our mid-size multimodal model that '\n",
      "                   'supports up to 2 million tokens, released in May of 2024.'),\n",
      "      input_token_limit=2000000,\n",
      "      output_token_limit=8192,\n",
      "      supported_generation_methods=['generateContent', 'countTokens'],\n",
      "      temperature=1.0,\n",
      "      max_temperature=2.0,\n",
      "      top_p=0.95,\n",
      "      top_k=40)\n",
      "Model(name='models/gemini-1.5-flash-latest',\n",
      "      base_model_id='',\n",
      "      version='001',\n",
      "      display_name='Gemini 1.5 Flash Latest',\n",
      "      description=('Alias that points to the most recent production (non-experimental) release '\n",
      "                   'of Gemini 1.5 Flash, our fast and versatile multimodal model for scaling '\n",
      "                   'across diverse tasks.'),\n",
      "      input_token_limit=1000000,\n",
      "      output_token_limit=8192,\n",
      "      supported_generation_methods=['generateContent', 'countTokens'],\n",
      "      temperature=1.0,\n",
      "      max_temperature=2.0,\n",
      "      top_p=0.95,\n",
      "      top_k=40)\n",
      "Model(name='models/gemini-1.5-flash-001',\n",
      "      base_model_id='',\n",
      "      version='001',\n",
      "      display_name='Gemini 1.5 Flash 001',\n",
      "      description=('Stable version of Gemini 1.5 Flash, our fast and versatile multimodal model '\n",
      "                   'for scaling across diverse tasks, released in May of 2024.'),\n",
      "      input_token_limit=1000000,\n",
      "      output_token_limit=8192,\n",
      "      supported_generation_methods=['generateContent', 'countTokens', 'createCachedContent'],\n",
      "      temperature=1.0,\n",
      "      max_temperature=2.0,\n",
      "      top_p=0.95,\n",
      "      top_k=64)\n",
      "Model(name='models/gemini-1.5-flash-001-tuning',\n",
      "      base_model_id='',\n",
      "      version='001',\n",
      "      display_name='Gemini 1.5 Flash 001 Tuning',\n",
      "      description=('Version of Gemini 1.5 Flash that supports tuning, our fast and versatile '\n",
      "                   'multimodal model for scaling across diverse tasks, released in May of 2024.'),\n",
      "      input_token_limit=16384,\n",
      "      output_token_limit=8192,\n",
      "      supported_generation_methods=['generateContent', 'countTokens', 'createTunedModel'],\n",
      "      temperature=1.0,\n",
      "      max_temperature=2.0,\n",
      "      top_p=0.95,\n",
      "      top_k=64)\n",
      "Model(name='models/gemini-1.5-flash',\n",
      "      base_model_id='',\n",
      "      version='001',\n",
      "      display_name='Gemini 1.5 Flash',\n",
      "      description=('Alias that points to the most recent stable version of Gemini 1.5 Flash, our '\n",
      "                   'fast and versatile multimodal model for scaling across diverse tasks.'),\n",
      "      input_token_limit=1000000,\n",
      "      output_token_limit=8192,\n",
      "      supported_generation_methods=['generateContent', 'countTokens'],\n",
      "      temperature=1.0,\n",
      "      max_temperature=2.0,\n",
      "      top_p=0.95,\n",
      "      top_k=40)\n",
      "Model(name='models/gemini-1.5-flash-002',\n",
      "      base_model_id='',\n",
      "      version='002',\n",
      "      display_name='Gemini 1.5 Flash 002',\n",
      "      description=('Stable version of Gemini 1.5 Flash, our fast and versatile multimodal model '\n",
      "                   'for scaling across diverse tasks, released in September of 2024.'),\n",
      "      input_token_limit=1000000,\n",
      "      output_token_limit=8192,\n",
      "      supported_generation_methods=['generateContent', 'countTokens', 'createCachedContent'],\n",
      "      temperature=1.0,\n",
      "      max_temperature=2.0,\n",
      "      top_p=0.95,\n",
      "      top_k=40)\n",
      "Model(name='models/gemini-1.5-flash-8b',\n",
      "      base_model_id='',\n",
      "      version='001',\n",
      "      display_name='Gemini 1.5 Flash-8B',\n",
      "      description=('Stable version of Gemini 1.5 Flash-8B, our smallest and most cost effective '\n",
      "                   'Flash model, released in October of 2024.'),\n",
      "      input_token_limit=1000000,\n",
      "      output_token_limit=8192,\n",
      "      supported_generation_methods=['createCachedContent', 'generateContent', 'countTokens'],\n",
      "      temperature=1.0,\n",
      "      max_temperature=2.0,\n",
      "      top_p=0.95,\n",
      "      top_k=40)\n",
      "Model(name='models/gemini-1.5-flash-8b-001',\n",
      "      base_model_id='',\n",
      "      version='001',\n",
      "      display_name='Gemini 1.5 Flash-8B 001',\n",
      "      description=('Stable version of Gemini 1.5 Flash-8B, our smallest and most cost effective '\n",
      "                   'Flash model, released in October of 2024.'),\n",
      "      input_token_limit=1000000,\n",
      "      output_token_limit=8192,\n",
      "      supported_generation_methods=['createCachedContent', 'generateContent', 'countTokens'],\n",
      "      temperature=1.0,\n",
      "      max_temperature=2.0,\n",
      "      top_p=0.95,\n",
      "      top_k=40)\n",
      "Model(name='models/gemini-1.5-flash-8b-latest',\n",
      "      base_model_id='',\n",
      "      version='001',\n",
      "      display_name='Gemini 1.5 Flash-8B Latest',\n",
      "      description=('Alias that points to the most recent production (non-experimental) release '\n",
      "                   'of Gemini 1.5 Flash-8B, our smallest and most cost effective Flash model, '\n",
      "                   'released in October of 2024.'),\n",
      "      input_token_limit=1000000,\n",
      "      output_token_limit=8192,\n",
      "      supported_generation_methods=['createCachedContent', 'generateContent', 'countTokens'],\n",
      "      temperature=1.0,\n",
      "      max_temperature=2.0,\n",
      "      top_p=0.95,\n",
      "      top_k=40)\n",
      "Model(name='models/gemini-1.5-flash-8b-exp-0827',\n",
      "      base_model_id='',\n",
      "      version='001',\n",
      "      display_name='Gemini 1.5 Flash 8B Experimental 0827',\n",
      "      description=('Experimental release (August 27th, 2024) of Gemini 1.5 Flash-8B, our '\n",
      "                   'smallest and most cost effective Flash model. Replaced by '\n",
      "                   'Gemini-1.5-flash-8b-001 (stable).'),\n",
      "      input_token_limit=1000000,\n",
      "      output_token_limit=8192,\n",
      "      supported_generation_methods=['generateContent', 'countTokens'],\n",
      "      temperature=1.0,\n",
      "      max_temperature=2.0,\n",
      "      top_p=0.95,\n",
      "      top_k=40)\n",
      "Model(name='models/gemini-1.5-flash-8b-exp-0924',\n",
      "      base_model_id='',\n",
      "      version='001',\n",
      "      display_name='Gemini 1.5 Flash 8B Experimental 0924',\n",
      "      description=('Experimental release (September 24th, 2024) of Gemini 1.5 Flash-8B, our '\n",
      "                   'smallest and most cost effective Flash model. Replaced by '\n",
      "                   'Gemini-1.5-flash-8b-001 (stable).'),\n",
      "      input_token_limit=1000000,\n",
      "      output_token_limit=8192,\n",
      "      supported_generation_methods=['generateContent', 'countTokens'],\n",
      "      temperature=1.0,\n",
      "      max_temperature=2.0,\n",
      "      top_p=0.95,\n",
      "      top_k=40)\n",
      "Model(name='models/gemini-2.5-pro-exp-03-25',\n",
      "      base_model_id='',\n",
      "      version='2.5-exp-03-25',\n",
      "      display_name='Gemini 2.5 Pro Experimental 03-25',\n",
      "      description='Experimental release (March 25th, 2025) of Gemini 2.5 Pro',\n",
      "      input_token_limit=1048576,\n",
      "      output_token_limit=65536,\n",
      "      supported_generation_methods=['generateContent', 'countTokens'],\n",
      "      temperature=1.0,\n",
      "      max_temperature=2.0,\n",
      "      top_p=0.95,\n",
      "      top_k=64)\n",
      "Model(name='models/gemini-2.0-flash-exp',\n",
      "      base_model_id='',\n",
      "      version='2.0',\n",
      "      display_name='Gemini 2.0 Flash Experimental',\n",
      "      description='Gemini 2.0 Flash Experimental',\n",
      "      input_token_limit=1048576,\n",
      "      output_token_limit=8192,\n",
      "      supported_generation_methods=['generateContent', 'countTokens', 'bidiGenerateContent'],\n",
      "      temperature=1.0,\n",
      "      max_temperature=2.0,\n",
      "      top_p=0.95,\n",
      "      top_k=40)\n",
      "Model(name='models/gemini-2.0-flash',\n",
      "      base_model_id='',\n",
      "      version='2.0',\n",
      "      display_name='Gemini 2.0 Flash',\n",
      "      description='Gemini 2.0 Flash',\n",
      "      input_token_limit=1048576,\n",
      "      output_token_limit=8192,\n",
      "      supported_generation_methods=['generateContent', 'countTokens'],\n",
      "      temperature=1.0,\n",
      "      max_temperature=2.0,\n",
      "      top_p=0.95,\n",
      "      top_k=40)\n",
      "Model(name='models/gemini-2.0-flash-001',\n",
      "      base_model_id='',\n",
      "      version='2.0',\n",
      "      display_name='Gemini 2.0 Flash 001',\n",
      "      description=('Stable version of Gemini 2.0 Flash, our fast and versatile multimodal model '\n",
      "                   'for scaling across diverse tasks, released in January of 2025.'),\n",
      "      input_token_limit=1048576,\n",
      "      output_token_limit=8192,\n",
      "      supported_generation_methods=['generateContent', 'countTokens'],\n",
      "      temperature=1.0,\n",
      "      max_temperature=2.0,\n",
      "      top_p=0.95,\n",
      "      top_k=40)\n",
      "Model(name='models/gemini-2.0-flash-exp-image-generation',\n",
      "      base_model_id='',\n",
      "      version='2.0',\n",
      "      display_name='Gemini 2.0 Flash (Image Generation) Experimental',\n",
      "      description='Gemini 2.0 Flash (Image Generation) Experimental',\n",
      "      input_token_limit=1048576,\n",
      "      output_token_limit=8192,\n",
      "      supported_generation_methods=['generateContent', 'countTokens', 'bidiGenerateContent'],\n",
      "      temperature=1.0,\n",
      "      max_temperature=2.0,\n",
      "      top_p=0.95,\n",
      "      top_k=40)\n",
      "Model(name='models/gemini-2.0-flash-lite-001',\n",
      "      base_model_id='',\n",
      "      version='2.0',\n",
      "      display_name='Gemini 2.0 Flash-Lite 001',\n",
      "      description='Stable version of Gemini 2.0 Flash Lite',\n",
      "      input_token_limit=1048576,\n",
      "      output_token_limit=8192,\n",
      "      supported_generation_methods=['generateContent', 'countTokens'],\n",
      "      temperature=1.0,\n",
      "      max_temperature=2.0,\n",
      "      top_p=0.95,\n",
      "      top_k=40)\n",
      "Model(name='models/gemini-2.0-flash-lite',\n",
      "      base_model_id='',\n",
      "      version='2.0',\n",
      "      display_name='Gemini 2.0 Flash-Lite',\n",
      "      description='Gemini 2.0 Flash-Lite',\n",
      "      input_token_limit=1048576,\n",
      "      output_token_limit=8192,\n",
      "      supported_generation_methods=['generateContent', 'countTokens'],\n",
      "      temperature=1.0,\n",
      "      max_temperature=2.0,\n",
      "      top_p=0.95,\n",
      "      top_k=40)\n",
      "Model(name='models/gemini-2.0-flash-lite-preview-02-05',\n",
      "      base_model_id='',\n",
      "      version='preview-02-05',\n",
      "      display_name='Gemini 2.0 Flash-Lite Preview 02-05',\n",
      "      description='Preview release (February 5th, 2025) of Gemini 2.0 Flash Lite',\n",
      "      input_token_limit=1048576,\n",
      "      output_token_limit=8192,\n",
      "      supported_generation_methods=['generateContent', 'countTokens'],\n",
      "      temperature=1.0,\n",
      "      max_temperature=2.0,\n",
      "      top_p=0.95,\n",
      "      top_k=40)\n",
      "Model(name='models/gemini-2.0-flash-lite-preview',\n",
      "      base_model_id='',\n",
      "      version='preview-02-05',\n",
      "      display_name='Gemini 2.0 Flash-Lite Preview',\n",
      "      description='Preview release (February 5th, 2025) of Gemini 2.0 Flash Lite',\n",
      "      input_token_limit=1048576,\n",
      "      output_token_limit=8192,\n",
      "      supported_generation_methods=['generateContent', 'countTokens'],\n",
      "      temperature=1.0,\n",
      "      max_temperature=2.0,\n",
      "      top_p=0.95,\n",
      "      top_k=40)\n",
      "Model(name='models/gemini-2.0-pro-exp',\n",
      "      base_model_id='',\n",
      "      version='2.5-exp-03-25',\n",
      "      display_name='Gemini 2.0 Pro Experimental',\n",
      "      description='Experimental release (March 25th, 2025) of Gemini 2.5 Pro',\n",
      "      input_token_limit=1048576,\n",
      "      output_token_limit=65536,\n",
      "      supported_generation_methods=['generateContent', 'countTokens'],\n",
      "      temperature=1.0,\n",
      "      max_temperature=2.0,\n",
      "      top_p=0.95,\n",
      "      top_k=64)\n",
      "Model(name='models/gemini-2.0-pro-exp-02-05',\n",
      "      base_model_id='',\n",
      "      version='2.5-exp-03-25',\n",
      "      display_name='Gemini 2.0 Pro Experimental 02-05',\n",
      "      description='Experimental release (March 25th, 2025) of Gemini 2.5 Pro',\n",
      "      input_token_limit=1048576,\n",
      "      output_token_limit=65536,\n",
      "      supported_generation_methods=['generateContent', 'countTokens'],\n",
      "      temperature=1.0,\n",
      "      max_temperature=2.0,\n",
      "      top_p=0.95,\n",
      "      top_k=64)\n",
      "Model(name='models/gemini-exp-1206',\n",
      "      base_model_id='',\n",
      "      version='2.5-exp-03-25',\n",
      "      display_name='Gemini Experimental 1206',\n",
      "      description='Experimental release (March 25th, 2025) of Gemini 2.5 Pro',\n",
      "      input_token_limit=1048576,\n",
      "      output_token_limit=65536,\n",
      "      supported_generation_methods=['generateContent', 'countTokens'],\n",
      "      temperature=1.0,\n",
      "      max_temperature=2.0,\n",
      "      top_p=0.95,\n",
      "      top_k=64)\n",
      "Model(name='models/gemini-2.0-flash-thinking-exp-01-21',\n",
      "      base_model_id='',\n",
      "      version='2.0-exp-01-21',\n",
      "      display_name='Gemini 2.0 Flash Thinking Experimental 01-21',\n",
      "      description='Experimental release (January 21st, 2025) of Gemini 2.0 Flash Thinking',\n",
      "      input_token_limit=1048576,\n",
      "      output_token_limit=65536,\n",
      "      supported_generation_methods=['generateContent', 'countTokens'],\n",
      "      temperature=0.7,\n",
      "      max_temperature=2.0,\n",
      "      top_p=0.95,\n",
      "      top_k=64)\n",
      "Model(name='models/gemini-2.0-flash-thinking-exp',\n",
      "      base_model_id='',\n",
      "      version='2.0-exp-01-21',\n",
      "      display_name='Gemini 2.0 Flash Thinking Experimental 01-21',\n",
      "      description='Experimental release (January 21st, 2025) of Gemini 2.0 Flash Thinking',\n",
      "      input_token_limit=1048576,\n",
      "      output_token_limit=65536,\n",
      "      supported_generation_methods=['generateContent', 'countTokens'],\n",
      "      temperature=0.7,\n",
      "      max_temperature=2.0,\n",
      "      top_p=0.95,\n",
      "      top_k=64)\n",
      "Model(name='models/gemini-2.0-flash-thinking-exp-1219',\n",
      "      base_model_id='',\n",
      "      version='2.0',\n",
      "      display_name='Gemini 2.0 Flash Thinking Experimental',\n",
      "      description='Gemini 2.0 Flash Thinking Experimental',\n",
      "      input_token_limit=1048576,\n",
      "      output_token_limit=65536,\n",
      "      supported_generation_methods=['generateContent', 'countTokens'],\n",
      "      temperature=0.7,\n",
      "      max_temperature=2.0,\n",
      "      top_p=0.95,\n",
      "      top_k=64)\n",
      "Model(name='models/learnlm-1.5-pro-experimental',\n",
      "      base_model_id='',\n",
      "      version='001',\n",
      "      display_name='LearnLM 1.5 Pro Experimental',\n",
      "      description=('Alias that points to the most recent stable version of Gemini 1.5 Pro, our '\n",
      "                   'mid-size multimodal model that supports up to 2 million tokens.'),\n",
      "      input_token_limit=32767,\n",
      "      output_token_limit=8192,\n",
      "      supported_generation_methods=['generateContent', 'countTokens'],\n",
      "      temperature=1.0,\n",
      "      max_temperature=2.0,\n",
      "      top_p=0.95,\n",
      "      top_k=64)\n",
      "Model(name='models/gemma-3-27b-it',\n",
      "      base_model_id='',\n",
      "      version='001',\n",
      "      display_name='Gemma 3 27B',\n",
      "      description='',\n",
      "      input_token_limit=131072,\n",
      "      output_token_limit=8192,\n",
      "      supported_generation_methods=['generateContent', 'countTokens'],\n",
      "      temperature=1.0,\n",
      "      max_temperature=None,\n",
      "      top_p=0.95,\n",
      "      top_k=64)\n",
      "Model(name='models/embedding-001',\n",
      "      base_model_id='',\n",
      "      version='001',\n",
      "      display_name='Embedding 001',\n",
      "      description='Obtain a distributed representation of a text.',\n",
      "      input_token_limit=2048,\n",
      "      output_token_limit=1,\n",
      "      supported_generation_methods=['embedContent'],\n",
      "      temperature=None,\n",
      "      max_temperature=None,\n",
      "      top_p=None,\n",
      "      top_k=None)\n",
      "Model(name='models/text-embedding-004',\n",
      "      base_model_id='',\n",
      "      version='004',\n",
      "      display_name='Text Embedding 004',\n",
      "      description='Obtain a distributed representation of a text.',\n",
      "      input_token_limit=2048,\n",
      "      output_token_limit=1,\n",
      "      supported_generation_methods=['embedContent'],\n",
      "      temperature=None,\n",
      "      max_temperature=None,\n",
      "      top_p=None,\n",
      "      top_k=None)\n",
      "Model(name='models/gemini-embedding-exp-03-07',\n",
      "      base_model_id='',\n",
      "      version='exp-03-07',\n",
      "      display_name='Gemini Embedding Experimental 03-07',\n",
      "      description='Obtain a distributed representation of a text.',\n",
      "      input_token_limit=8192,\n",
      "      output_token_limit=1,\n",
      "      supported_generation_methods=['embedContent'],\n",
      "      temperature=None,\n",
      "      max_temperature=None,\n",
      "      top_p=None,\n",
      "      top_k=None)\n",
      "Model(name='models/gemini-embedding-exp',\n",
      "      base_model_id='',\n",
      "      version='exp-03-07',\n",
      "      display_name='Gemini Embedding Experimental',\n",
      "      description='Obtain a distributed representation of a text.',\n",
      "      input_token_limit=8192,\n",
      "      output_token_limit=1,\n",
      "      supported_generation_methods=['embedContent'],\n",
      "      temperature=None,\n",
      "      max_temperature=None,\n",
      "      top_p=None,\n",
      "      top_k=None)\n",
      "Model(name='models/aqa',\n",
      "      base_model_id='',\n",
      "      version='001',\n",
      "      display_name='Model that performs Attributed Question Answering.',\n",
      "      description=('Model trained to return answers to questions that are grounded in provided '\n",
      "                   'sources, along with estimating answerable probability.'),\n",
      "      input_token_limit=7168,\n",
      "      output_token_limit=1024,\n",
      "      supported_generation_methods=['generateAnswer'],\n",
      "      temperature=0.2,\n",
      "      max_temperature=None,\n",
      "      top_p=1.0,\n",
      "      top_k=40)\n",
      "Model(name='models/imagen-3.0-generate-002',\n",
      "      base_model_id='',\n",
      "      version='002',\n",
      "      display_name='Imagen 3.0 002 model',\n",
      "      description='Vertex served Imagen 3.0 002 model',\n",
      "      input_token_limit=480,\n",
      "      output_token_limit=8192,\n",
      "      supported_generation_methods=['predict'],\n",
      "      temperature=None,\n",
      "      max_temperature=None,\n",
      "      top_p=None,\n",
      "      top_k=None)\n"
     ]
    }
   ],
   "source": [
    "import google.generativeai as genai\n",
    "from kaggle_secrets import UserSecretsClient\n",
    "\n",
    "GOOGLE_API_KEY = UserSecretsClient().get_secret(\"GOOGLE_API_KEY\")\n",
    "\n",
    "genai.configure(api_key=GOOGLE_API_KEY)\n",
    "\n",
    "models = genai.list_models()\n",
    "\n",
    "for model in models:\n",
    "    print(model)"
   ]
  },
  {
   "cell_type": "code",
   "execution_count": 35,
   "id": "ca896cbf",
   "metadata": {
    "execution": {
     "iopub.execute_input": "2025-03-31T14:42:09.844280Z",
     "iopub.status.busy": "2025-03-31T14:42:09.843701Z",
     "iopub.status.idle": "2025-03-31T14:42:11.394229Z",
     "shell.execute_reply": "2025-03-31T14:42:11.392481Z"
    },
    "papermill": {
     "duration": 1.574463,
     "end_time": "2025-03-31T14:42:11.397992",
     "exception": false,
     "start_time": "2025-03-31T14:42:09.823529",
     "status": "completed"
    },
    "tags": []
   },
   "outputs": [
    {
     "name": "stdout",
     "output_type": "stream",
     "text": [
      "Part: text: \"```python\\ndef is_prime(n):\\n    if n <= 1:\\n        return False\\n    if n <= 3:\\n        return True\\n    if n % 2 == 0 or n % 3 == 0:\\n        return False\\n    i = 5\\n    while i * i <= n:\\n        if n % i == 0 or n % (i + 2) == 0:\\n            return False\\n        i = i + 6\\n    return True\\n\\nodd_primes = []\\nnum = 3\\nwhile len(odd_primes) < 14:\\n    if is_prime(num):\\n        odd_primes.append(num)\\n    num += 2\\n\\nsum_odd_primes = sum(odd_primes)\\n\\nprint(\\\"The first 14 odd prime numbers are:\\\", odd_primes)\\nprint(\\\"Their sum is:\\\", sum_odd_primes)\\n```\"\n",
      "\n",
      "Part has function_call: \n",
      "Part has function_call, but no args or code.\n",
      "No code to execute in this part.\n",
      "-----\n"
     ]
    }
   ],
   "source": [
    "from pprint import pprint\n",
    "from kaggle_secrets import UserSecretsClient\n",
    "import google.generativeai as genai\n",
    "import io\n",
    "import sys\n",
    "import json\n",
    "\n",
    "GOOGLE_API_KEY = UserSecretsClient().get_secret(\"GOOGLE_API_KEY\")\n",
    "\n",
    "genai.configure(api_key=GOOGLE_API_KEY)\n",
    "\n",
    "model = genai.GenerativeModel('gemini-2.0-flash')\n",
    "\n",
    "tools = [\n",
    "    {\n",
    "        \"function_declarations\": [\n",
    "            {\n",
    "                \"name\": \"code_execution\",\n",
    "                \"description\": \"Executes code and returns the result.\",\n",
    "                \"parameters\": {\n",
    "                    \"type\": \"OBJECT\",\n",
    "                    \"properties\": {\n",
    "                        \"code\": {\n",
    "                            \"type\": \"STRING\",\n",
    "                            \"description\": \"The code to execute.\",\n",
    "                        },\n",
    "                    },\n",
    "                    \"required\": [\"code\"],\n",
    "                },\n",
    "            }\n",
    "        ]\n",
    "    }\n",
    "]\n",
    "\n",
    "code_exec_prompt = \"\"\"\n",
    "Write and execute Python code to:\n",
    "1. Generate the first 14 odd prime numbers.\n",
    "2. Calculate the sum of those 14 odd prime numbers.\n",
    "3. Print the list of the 14 odd prime numbers and their sum.\n",
    "\"\"\"\n",
    "\n",
    "response = model.generate_content(\n",
    "    contents=code_exec_prompt,\n",
    "    tools=tools\n",
    ")\n",
    "\n",
    "for candidate in response.candidates:\n",
    "    for part in candidate.content.parts:\n",
    "        code_to_execute = None  # Initialize\n",
    "\n",
    "        print(f\"Part: {part}\")  # Debug: Print the entire part object\n",
    "\n",
    "        if hasattr(part, \"function_call\"):  # Check for function_call\n",
    "            print(f\"Part has function_call: {part.function_call}\")\n",
    "            if hasattr(part.function_call, \"args\") and hasattr(part.function_call.args, \"get\"):\n",
    "                code_to_execute = part.function_call.args.get(\"code\")\n",
    "                print(f\"Code from function_call: {code_to_execute}\")\n",
    "            else:\n",
    "                print(\"Part has function_call, but no args or code.\")\n",
    "        elif hasattr(part, \"function_response\"):\n",
    "            print(f\"Part.function_response: {part.function_response}\")\n",
    "            if part.function_response is not None and hasattr(part.function_response, 'response') and part.function_response.response is not None:\n",
    "                function_response_content = part.function_response.response\n",
    "                print(f\"function_response_content: {function_response_content}\")\n",
    "                code_to_execute = function_response_content.get('code')  # Use .get()\n",
    "                print(f\"Code from function_response: {code_to_execute}\")\n",
    "            else:\n",
    "                print(\"Function response was None.\")\n",
    "        elif hasattr(part, \"text\"):\n",
    "            code_to_execute = part.text\n",
    "            print(f\"Code from text: {code_to_execute}\")  # print code\n",
    "        else:\n",
    "            print(\"Neither function_response nor text nor function_call\")\n",
    "\n",
    "        if code_to_execute:\n",
    "            # Redirect stdout\n",
    "            old_stdout = sys.stdout\n",
    "            new_stdout = io.StringIO()\n",
    "            sys.stdout = new_stdout\n",
    "\n",
    "            exec(code_to_execute)\n",
    "\n",
    "            # Restore stdout\n",
    "            sys.stdout = old_stdout\n",
    "            output = new_stdout.getvalue()\n",
    "            print(\"Code Output:\")\n",
    "            print(output)\n",
    "        else:\n",
    "            print(\"No code to execute in this part.\")\n",
    "\n",
    "        print(\"-----\")\n"
   ]
  },
  {
   "cell_type": "code",
   "execution_count": 36,
   "id": "cd6515ad",
   "metadata": {
    "execution": {
     "iopub.execute_input": "2025-03-31T14:42:11.439038Z",
     "iopub.status.busy": "2025-03-31T14:42:11.438651Z",
     "iopub.status.idle": "2025-03-31T14:42:13.130607Z",
     "shell.execute_reply": "2025-03-31T14:42:13.129329Z"
    },
    "papermill": {
     "duration": 1.716531,
     "end_time": "2025-03-31T14:42:13.133987",
     "exception": false,
     "start_time": "2025-03-31T14:42:11.417456",
     "status": "completed"
    },
    "tags": []
   },
   "outputs": [
    {
     "name": "stdout",
     "output_type": "stream",
     "text": [
      "Code Output:\n",
      "The first 14 odd prime numbers are: [3, 5, 7, 11, 13, 17, 19, 23, 29, 31, 37, 41, 43, 47]\n",
      "Their sum is: 326\n",
      "\n"
     ]
    }
   ],
   "source": [
    "from pprint import pprint\n",
    "from kaggle_secrets import UserSecretsClient\n",
    "import google.generativeai as genai\n",
    "import io\n",
    "import sys\n",
    "\n",
    "GOOGLE_API_KEY = UserSecretsClient().get_secret(\"GOOGLE_API_KEY\")\n",
    "genai.configure(api_key=GOOGLE_API_KEY)\n",
    "model = genai.GenerativeModel('gemini-2.0-flash')\n",
    "\n",
    "tools = [\n",
    "    {\n",
    "        \"function_declarations\": [\n",
    "            {\n",
    "                \"name\": \"code_execution\",\n",
    "                \"description\": \"Executes code and returns the result.\",\n",
    "                \"parameters\": {\n",
    "                    \"type\": \"OBJECT\",\n",
    "                    \"properties\": {\n",
    "                        \"code\": {\n",
    "                            \"type\": \"STRING\",\n",
    "                            \"description\": \"The code to execute.\",\n",
    "                        },\n",
    "                    },\n",
    "                    \"required\": [\"code\"],\n",
    "                },\n",
    "            }\n",
    "        ]\n",
    "    }\n",
    "]\n",
    "\n",
    "code_exec_prompt = \"\"\"\n",
    "Write and execute Python code to:\n",
    "1. Generate the first 14 odd prime numbers.\n",
    "2. Calculate the sum of those 14 odd prime numbers.\n",
    "3. Print the list of the 14 odd prime numbers and their sum.\n",
    "\"\"\"\n",
    "\n",
    "response = model.generate_content(\n",
    "    contents=code_exec_prompt,\n",
    "    tools=tools\n",
    ")\n",
    "\n",
    "for candidate in response.candidates:\n",
    "    for part in candidate.content.parts:\n",
    "        code_to_execute = None\n",
    "\n",
    "        if hasattr(part, \"function_call\") and hasattr(part.function_call, \"args\") and part.function_call.args is not None:\n",
    "            code_to_execute = part.function_call.args.get(\"code\")\n",
    "        elif hasattr(part, \"text\"):\n",
    "            code_to_execute = part.text\n",
    "\n",
    "        if code_to_execute:\n",
    "            old_stdout = sys.stdout\n",
    "            new_stdout = io.StringIO()\n",
    "            sys.stdout = new_stdout\n",
    "\n",
    "            exec(code_to_execute)\n",
    "\n",
    "            sys.stdout = old_stdout\n",
    "            output = new_stdout.getvalue()\n",
    "            print(\"Code Output:\")\n",
    "            print(output)\n",
    "        else:\n",
    "            print(\"No code to execute in this part.\")\n"
   ]
  }
 ],
 "metadata": {
  "colab": {
   "name": "day-1-prompting.ipynb",
   "toc_visible": true
  },
  "kaggle": {
   "accelerator": "none",
   "dataSources": [],
   "dockerImageVersionId": 30786,
   "isGpuEnabled": false,
   "isInternetEnabled": true,
   "language": "python",
   "sourceType": "notebook"
  },
  "kernelspec": {
   "display_name": "Python 3",
   "language": "python",
   "name": "python3"
  },
  "language_info": {
   "codemirror_mode": {
    "name": "ipython",
    "version": 3
   },
   "file_extension": ".py",
   "mimetype": "text/x-python",
   "name": "python",
   "nbconvert_exporter": "python",
   "pygments_lexer": "ipython3",
   "version": "3.10.14"
  },
  "papermill": {
   "default_parameters": {},
   "duration": 77.665249,
   "end_time": "2025-03-31T14:42:14.185597",
   "environment_variables": {},
   "exception": null,
   "input_path": "__notebook__.ipynb",
   "output_path": "__notebook__.ipynb",
   "parameters": {},
   "start_time": "2025-03-31T14:40:56.520348",
   "version": "2.6.0"
  }
 },
 "nbformat": 4,
 "nbformat_minor": 5
}
